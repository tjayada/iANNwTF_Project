{
  "nbformat": 4,
  "nbformat_minor": 0,
  "metadata": {
    "colab": {
      "name": "01_basic_model_idea.ipynb",
      "provenance": [],
      "collapsed_sections": []
    },
    "kernelspec": {
      "name": "python3",
      "display_name": "Python 3"
    },
    "language_info": {
      "name": "python"
    },
    "accelerator": "GPU"
  },
  "cells": [
    {
      "cell_type": "code",
      "execution_count": 1,
      "metadata": {
        "id": "_MnY7bxYWkuO"
      },
      "outputs": [],
      "source": [
        "import pandas as pd\n",
        "import tensorflow as tf\n",
        "import numpy as np"
      ]
    },
    {
      "cell_type": "code",
      "source": [
        "# Load Train data from our github repo\n",
        "url_train = 'https://raw.githubusercontent.com/tjayada/iANNwTF_Project/main/data/cleaned%20data%20(1)/data_without_columns_train.csv'\n",
        "dataDF_train = pd.read_csv(url_train)\n",
        "\n",
        "# Load Train label data from our github repo\n",
        "url_train_labels = 'https://raw.githubusercontent.com/tjayada/iANNwTF_Project/main/data/cleaned%20data%20(1)/data_without_columns_train_labels.csv'\n",
        "dataDF_train_labels = pd.read_csv(url_train_labels)\n",
        "\n",
        "# Load Problem data from our github repo\n",
        "url_problem = 'https://raw.githubusercontent.com/tjayada/iANNwTF_Project/main/data/cleaned%20data%20(1)/data_without_columns_test.csv'\n",
        "dataDF_problem = pd.read_csv(url_problem)\n"
      ],
      "metadata": {
        "id": "2yjGn_43Z6UH"
      },
      "execution_count": 2,
      "outputs": []
    },
    {
      "cell_type": "code",
      "source": [
        "# drop indexes \n",
        "dataDF_train = dataDF_train.drop(\"Unnamed: 0\", axis = 1)\n",
        "dataDF_train_labels = dataDF_train_labels.drop(\"Unnamed: 0\", axis = 1)\n",
        "dataDF_problem = dataDF_problem.drop(\"Unnamed: 0\", axis = 1)"
      ],
      "metadata": {
        "id": "IyoK1fJbpujl"
      },
      "execution_count": 3,
      "outputs": []
    },
    {
      "cell_type": "code",
      "source": [
        "# create tf dataset for training\n",
        "train_tensor = tf.data.Dataset.from_tensor_slices(dataDF_train)\n",
        "train_labels_tensor = tf.data.Dataset.from_tensor_slices(dataDF_train_labels)\n",
        "train_tensor = tf.data.Dataset.zip((train_tensor, train_labels_tensor))\n",
        "\n",
        "# create problem tf data set\n",
        "problem_tensor = tf.data.Dataset.from_tensor_slices(dataDF_problem)"
      ],
      "metadata": {
        "id": "6sqj_pOxascx"
      },
      "execution_count": 4,
      "outputs": []
    },
    {
      "cell_type": "code",
      "source": [
        "# shuffle and batch training data\n",
        "train_tensor = train_tensor.shuffle(1000)\n",
        "\n",
        "# shuffle and batch problem data\n",
        "problem_tensor = problem_tensor.shuffle(1000).batch(64).prefetch(64)"
      ],
      "metadata": {
        "id": "7oJ8NlwSbT8n"
      },
      "execution_count": 5,
      "outputs": []
    },
    {
      "cell_type": "code",
      "source": [
        "# split training data into train, test and validation data\n",
        "DATASET_SIZE = len(dataDF_train)\n",
        "train_size = int(0.7 * DATASET_SIZE)\n",
        "val_size = int(0.15 * DATASET_SIZE)\n",
        "test_size = int(0.15 * DATASET_SIZE)\n",
        "\n",
        "train_dataset = train_tensor.take(train_size)\n",
        "test_dataset = train_tensor.skip(train_size)\n",
        "val_dataset = test_dataset.skip(val_size)\n",
        "test_dataset = test_dataset.take(test_size)"
      ],
      "metadata": {
        "id": "iS9fMTMockVl"
      },
      "execution_count": 6,
      "outputs": []
    },
    {
      "cell_type": "code",
      "source": [
        "train_dataset = train_dataset.shuffle(1000).batch(64).prefetch(64)\n",
        "test_dataset = test_dataset.shuffle(1000).batch(64).prefetch(64)\n",
        "val_dataset = val_dataset.shuffle(1000).batch(64).prefetch(64)"
      ],
      "metadata": {
        "id": "_0faZjvXhoPN"
      },
      "execution_count": 7,
      "outputs": []
    },
    {
      "cell_type": "code",
      "source": [
        "# create completely basic Model\n",
        "class MyModel(tf.keras.Model):\n",
        "\n",
        "    def __init__(self):\n",
        "        super(MyModel, self).__init__()\n",
        "        self.dense1 = SimpleDense(300, activation = tf.keras.activations.sigmoid)\n",
        "        self.dense2 = SimpleDense(600, activation = tf.keras.activations.sigmoid)\n",
        "        self.dense3 = SimpleDense(1200, activation = tf.keras.activations.sigmoid)\n",
        "        self.dense4 = SimpleDense(600, activation = tf.keras.activations.sigmoid)\n",
        "        self.dense5 = SimpleDense(300, activation = tf.keras.activations.sigmoid)\n",
        "        self.out = SimpleDense(1, activation = tf.keras.activations.sigmoid)\n",
        "        self.dropout = tf.keras.layers.Dropout(0.5)\n",
        "\n",
        "    def call(self, inputs):\n",
        "        x = self.dense1(inputs)\n",
        "        x = self.dense2(x)\n",
        "        x = self.dense3(x)\n",
        "        x = self.dense4(x)\n",
        "        x = self.dense5(x)\n",
        "        x = self.dropout(x, training=True)\n",
        "        out = self.out(x) * 500\n",
        "        return out\n",
        "\n",
        "class SimpleDense(tf.keras.layers.Layer):\n",
        "\n",
        "    def __init__(self, units, activation):\n",
        "        super(SimpleDense, self).__init__()\n",
        "        self.units = units\n",
        "        self.activation = activation\n",
        "\n",
        "    def build(self, input_shape):\n",
        "        self.w = self.add_weight(shape=(input_shape[-1], self.units),\n",
        "                               initializer='random_normal',\n",
        "                               trainable=True)\n",
        "        self.b = self.add_weight(shape=(self.units,),\n",
        "                               initializer='random_normal',\n",
        "                               trainable=True)\n",
        "\n",
        "    def call(self, inputs):\n",
        "        x = tf.matmul(inputs, self.w) + self.b\n",
        "        x = self.activation(x)\n",
        "        return x\n"
      ],
      "metadata": {
        "id": "C8KPd6K3eP1G"
      },
      "execution_count": 8,
      "outputs": []
    },
    {
      "cell_type": "code",
      "source": [
        "def train_step(model, input, target, loss_function, optimizer):\n",
        "  # loss_object and optimizer_object are instances of respective tensorflow classes\n",
        "  with tf.GradientTape() as tape:\n",
        "    prediction = model(input)\n",
        "    loss = loss_function(target, prediction)\n",
        "    gradients = tape.gradient(loss, model.trainable_variables)\n",
        "  optimizer.apply_gradients(zip(gradients, model.trainable_variables))\n",
        "  return loss\n",
        "\n",
        "def test(model, test_data, loss_function):\n",
        "  # test over complete test data\n",
        "\n",
        "  test_accuracy_aggregator = []\n",
        "  test_loss_aggregator = []\n",
        "\n",
        "  for (input, target) in test_data:\n",
        "    prediction = model(input)\n",
        "    sample_test_loss = loss_function(target, prediction)\n",
        "    sample_test_accuracy =  np.round(target, 0) == np.round(prediction, 0)\n",
        "    sample_test_accuracy = np.mean(sample_test_accuracy)\n",
        "    test_loss_aggregator.append(sample_test_loss.numpy())\n",
        "    test_accuracy_aggregator.append(np.mean(sample_test_accuracy))\n",
        "\n",
        "  test_loss = tf.reduce_mean(test_loss_aggregator)\n",
        "  test_accuracy = tf.reduce_mean(test_accuracy_aggregator)\n",
        "\n",
        "  return test_loss, test_accuracy"
      ],
      "metadata": {
        "id": "IA0C6SvZezi8"
      },
      "execution_count": 9,
      "outputs": []
    },
    {
      "cell_type": "code",
      "source": [
        "tf.keras.backend.clear_session()\n",
        "\n",
        "#For showcasing we only use a subset of the training and test data (generally use all of the available data!)\n",
        "train_dataset = train_dataset\n",
        "test_dataset = test_dataset\n",
        "\n",
        "### Hyperparameters\n",
        "num_epochs = 50\n",
        "learning_rate = 0.001\n",
        "\n",
        "# Initialize the model.\n",
        "model = MyModel()\n",
        "# Initialize the loss: categorical cross entropy. Check out 'tf.keras.losses'.\n",
        "cross_entropy_loss = tf.keras.losses.CategoricalCrossentropy()\n",
        "# Initialize the optimizer: SGD with default parameters. Check out 'tf.keras.optimizers'\n",
        "optimizer = tf.keras.optimizers.SGD(learning_rate)\n",
        "\n",
        "# Initialize lists for later visualization.\n",
        "train_losses = []\n",
        "\n",
        "test_losses = []\n",
        "test_accuracies = []\n",
        "\n",
        "#testing once before we begin\n",
        "test_loss, test_accuracy = test(model, test_dataset, cross_entropy_loss)\n",
        "test_losses.append(test_loss)\n",
        "test_accuracies.append(test_accuracy)\n",
        "\n",
        "#check how model performs on train data once before we begin\n",
        "train_loss, _ = test(model, train_dataset, cross_entropy_loss)\n",
        "train_losses.append(train_loss)\n",
        "\n",
        "# We train for num_epochs epochs.\n",
        "for epoch in range(num_epochs):\n",
        "    print(f'Epoch: {str(epoch+1)} starting with accuracy {test_accuracies[-1]}')\n",
        "\n",
        "    #training (and checking in with training)\n",
        "    epoch_loss_agg = []\n",
        "    for input,target in train_dataset:\n",
        "        train_loss = train_step(model, input, target, cross_entropy_loss, optimizer)\n",
        "        epoch_loss_agg.append(train_loss)\n",
        "\n",
        "    #track training loss\n",
        "    train_losses.append(tf.reduce_mean(epoch_loss_agg))\n",
        "\n",
        "    #testing, so we can track accuracy and test loss\n",
        "    test_loss, test_accuracy = test(model, test_dataset, cross_entropy_loss)\n",
        "    test_losses.append(test_loss)\n",
        "    test_accuracies.append(test_accuracy)"
      ],
      "metadata": {
        "colab": {
          "base_uri": "https://localhost:8080/"
        },
        "id": "LkAxTZXSe2Ib",
        "outputId": "81ccd56d-1dd7-40bf-8c4b-a008e81b80af"
      },
      "execution_count": 10,
      "outputs": [
        {
          "output_type": "stream",
          "name": "stdout",
          "text": [
            "Epoch: 1 starting with accuracy 0.0014534883720930232\n",
            "Epoch: 2 starting with accuracy 0.0014534883720930232\n",
            "Epoch: 3 starting with accuracy 0.001816860465116279\n",
            "Epoch: 4 starting with accuracy 0.003997093023255814\n",
            "Epoch: 5 starting with accuracy 0.0029069767441860465\n",
            "Epoch: 6 starting with accuracy 0.0010901162790697674\n",
            "Epoch: 7 starting with accuracy 0.001816860465116279\n",
            "Epoch: 8 starting with accuracy 0.002180232558139535\n",
            "Epoch: 9 starting with accuracy 0.0014534883720930232\n",
            "Epoch: 10 starting with accuracy 0.003633720930232558\n",
            "Epoch: 11 starting with accuracy 0.002180232558139535\n",
            "Epoch: 12 starting with accuracy 0.0034355179704016916\n",
            "Epoch: 13 starting with accuracy 0.0029069767441860465\n",
            "Epoch: 14 starting with accuracy 0.001816860465116279\n",
            "Epoch: 15 starting with accuracy 0.0029069767441860465\n",
            "Epoch: 16 starting with accuracy 0.002180232558139535\n",
            "Epoch: 17 starting with accuracy 0.002543604651162791\n",
            "Epoch: 18 starting with accuracy 0.0029069767441860465\n",
            "Epoch: 19 starting with accuracy 0.002543604651162791\n",
            "Epoch: 20 starting with accuracy 0.002180232558139535\n",
            "Epoch: 21 starting with accuracy 0.003997093023255814\n",
            "Epoch: 22 starting with accuracy 0.002543604651162791\n",
            "Epoch: 23 starting with accuracy 0.0014534883720930232\n",
            "Epoch: 24 starting with accuracy 0.002543604651162791\n",
            "Epoch: 25 starting with accuracy 0.0029069767441860465\n",
            "Epoch: 26 starting with accuracy 0.0010901162790697674\n",
            "Epoch: 27 starting with accuracy 0.002180232558139535\n",
            "Epoch: 28 starting with accuracy 0.002543604651162791\n",
            "Epoch: 29 starting with accuracy 0.0010901162790697674\n",
            "Epoch: 30 starting with accuracy 0.001816860465116279\n",
            "Epoch: 31 starting with accuracy 0.0014534883720930232\n",
            "Epoch: 32 starting with accuracy 0.001816860465116279\n",
            "Epoch: 33 starting with accuracy 0.0010901162790697674\n",
            "Epoch: 34 starting with accuracy 0.002180232558139535\n",
            "Epoch: 35 starting with accuracy 0.0010901162790697674\n",
            "Epoch: 36 starting with accuracy 0.001816860465116279\n",
            "Epoch: 37 starting with accuracy 0.001816860465116279\n",
            "Epoch: 38 starting with accuracy 0.0007267441860465116\n",
            "Epoch: 39 starting with accuracy 0.002543604651162791\n",
            "Epoch: 40 starting with accuracy 0.002543604651162791\n",
            "Epoch: 41 starting with accuracy 0.0007267441860465116\n",
            "Epoch: 42 starting with accuracy 0.0029069767441860465\n",
            "Epoch: 43 starting with accuracy 0.0029069767441860465\n",
            "Epoch: 44 starting with accuracy 0.0007267441860465116\n",
            "Epoch: 45 starting with accuracy 0.0030721458773784356\n",
            "Epoch: 46 starting with accuracy 0.0032703488372093025\n",
            "Epoch: 47 starting with accuracy 0.002180232558139535\n",
            "Epoch: 48 starting with accuracy 0.0014534883720930232\n",
            "Epoch: 49 starting with accuracy 0.001816860465116279\n",
            "Epoch: 50 starting with accuracy 0.0014534883720930232\n"
          ]
        }
      ]
    },
    {
      "cell_type": "code",
      "source": [
        "import matplotlib.pyplot as plt\n",
        "\n",
        "# Visualize accuracy and loss for training and test data.\n",
        "plt.figure()\n",
        "line1, = plt.plot(train_losses)\n",
        "line2, = plt.plot(test_losses)\n",
        "line3, = plt.plot(test_accuracies)\n",
        "plt.xlabel(\"Training steps\")\n",
        "plt.ylabel(\"Loss/Accuracy\")\n",
        "plt.legend((line1,line2, line3),(\"training\",\"test\", \"test accuracy\"))\n",
        "plt.show()\n",
        "\n",
        "validate = val_dataset\n",
        "validate_accuracies = []\n",
        "for elem in validate:\n",
        "    validate_loss, validate_accuracy = test(model, val_dataset, cross_entropy_loss)\n",
        "    validate_accuracies.append(validate_accuracy)\n",
        "\n",
        "plt.figure()\n",
        "line1, = plt.plot(validate_accuracies)\n",
        "plt.xlabel(\"Data Points\")\n",
        "plt.ylabel(\"Accuracy\")\n",
        "plt.show()"
      ],
      "metadata": {
        "colab": {
          "base_uri": "https://localhost:8080/",
          "height": 542
        },
        "id": "zPenORIpgY8Q",
        "outputId": "55a0c467-bee2-4254-abf4-a453339c0775"
      },
      "execution_count": 11,
      "outputs": [
        {
          "output_type": "display_data",
          "data": {
            "text/plain": [
              "<Figure size 432x288 with 1 Axes>"
            ],
            "image/png": "[encoded data removed]"
          },
          "metadata": {
            "needs_background": "light"
          }
        },
        {
          "output_type": "display_data",
          "data": {
            "text/plain": [
              "<Figure size 432x288 with 1 Axes>"
            ],
            "image/png": "[encoded data removed]"
          },
          "metadata": {
            "needs_background": "light"
          }
        }
      ]
    }
  ]
}