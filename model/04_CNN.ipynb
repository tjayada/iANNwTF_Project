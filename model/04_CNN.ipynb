{
  "nbformat": 4,
  "nbformat_minor": 0,
  "metadata": {
    "colab": {
      "name": "04_CNN.ipynb",
      "provenance": []
    },
    "kernelspec": {
      "name": "python3",
      "display_name": "Python 3"
    },
    "language_info": {
      "name": "python"
    },
    "accelerator": "GPU"
  },
  "cells": [
    {
      "cell_type": "code",
      "execution_count": 335,
      "metadata": {
        "id": "TZiLFA_SVY8_"
      },
      "outputs": [],
      "source": [
        "import pandas as pd\n",
        "import matplotlib.pyplot as plt\n",
        "import tensorflow as tf\n",
        "from tensorflow import keras\n",
        "from tensorflow.keras import layers\n",
        "from tensorflow.keras.layers.experimental import preprocessing\n",
        "from sklearn.model_selection import train_test_split\n",
        "import numpy as np"
      ]
    },
    {
      "cell_type": "code",
      "source": [
        "# Load Train data from our github repo\n",
        "url_train = 'https://raw.githubusercontent.com/tjayada/iANNwTF_Project/main/data/cleaned%20data%20(1)/data_without_columns_train.csv'\n",
        "dataDF_train = pd.read_csv(url_train)\n",
        "\n",
        "# Load Train label data from our github repo\n",
        "url_train_labels = 'https://raw.githubusercontent.com/tjayada/iANNwTF_Project/main/data/cleaned%20data%20(1)/data_without_columns_train_labels.csv'\n",
        "dataDF_train_labels = pd.read_csv(url_train_labels)"
      ],
      "metadata": {
        "id": "Ix1zNQs_Vkz5"
      },
      "execution_count": 336,
      "outputs": []
    },
    {
      "cell_type": "code",
      "source": [
        "# drop indexes \n",
        "dataDF_train = dataDF_train.drop(\"Unnamed: 0\", axis = 1)\n",
        "dataDF_train_labels = dataDF_train_labels.drop(\"Unnamed: 0\", axis = 1)"
      ],
      "metadata": {
        "id": "I22e-mFkVoMY"
      },
      "execution_count": 337,
      "outputs": []
    },
    {
      "cell_type": "code",
      "source": [
        "dataDF_train = dataDF_train.to_numpy()\n",
        "dataDF_train_labels = dataDF_train_labels.to_numpy()"
      ],
      "metadata": {
        "id": "dS1LIgrAWpiC"
      },
      "execution_count": 338,
      "outputs": []
    },
    {
      "cell_type": "code",
      "source": [
        "dataDF_train = dataDF_train.reshape(dataDF_train.shape[0], dataDF_train.shape[1], 1)"
      ],
      "metadata": {
        "id": "qi0V5fltV0hH"
      },
      "execution_count": 339,
      "outputs": []
    },
    {
      "cell_type": "code",
      "source": [
        "X_train, X_valid, y_train, y_valid = train_test_split(dataDF_train, dataDF_train_labels, test_size=0.25, random_state=1)"
      ],
      "metadata": {
        "id": "YeSDZUV6VrJg"
      },
      "execution_count": 340,
      "outputs": []
    },
    {
      "cell_type": "code",
      "source": [
        "callback = tf.keras.callbacks.EarlyStopping(monitor='loss', patience=3)\n",
        "\n",
        "cnn_model = keras.Sequential([\n",
        "      layers.Conv1D(32, 2, activation=\"relu\", input_shape=(78,1)),\n",
        "      #layers.Dropout(rate = 0.2),\n",
        "      layers.Conv1D(64, 2, activation=\"relu\"),\n",
        "      layers.Conv1D(128, 2, activation=\"relu\"),  \n",
        "      layers.Conv1D(64, 2, activation=\"relu\"),\n",
        "      layers.Conv1D(32, 2, activation=\"relu\"),\n",
        "        \n",
        "      layers.Flatten(),\n",
        "      layers.Dense(120, kernel_initializer='normal', activation='relu'),\n",
        "      layers.Dense(1)\n",
        "  ])\n",
        "\n",
        "cnn_model.compile(loss='mse',\n",
        "                metrics=[tf.keras.metrics.RootMeanSquaredError()],\n",
        "                optimizer=tf.keras.optimizers.Adam(0.01))"
      ],
      "metadata": {
        "id": "1jxiMvcXVtPP"
      },
      "execution_count": 341,
      "outputs": []
    },
    {
      "cell_type": "code",
      "source": [
        "history = cnn_model.fit(\n",
        "    X_train, y_train,\n",
        "    batch_size = 64,\n",
        "    epochs=200,\n",
        "    #callbacks = [callback],\n",
        "    verbose=0,\n",
        "    validation_split = 0.1)\n"
      ],
      "metadata": {
        "id": "RMGmWqOZXGG4"
      },
      "execution_count": 342,
      "outputs": []
    },
    {
      "cell_type": "code",
      "source": [
        "# Calculate R squared\n",
        "from sklearn.metrics import mean_squared_error\n",
        "\n",
        "y_pred = cnn_model.predict(X_train).astype(np.int64)\n",
        "y_true = y_train.astype(np.int64)\n",
        "\n",
        "print(np.sqrt(mean_squared_error(y_true, y_pred)))"
      ],
      "metadata": {
        "colab": {
          "base_uri": "https://localhost:8080/"
        },
        "id": "vq9Wns1nX3Kt",
        "outputId": "3cbf15cb-7f2e-4b11-aff1-04a755d835d1"
      },
      "execution_count": 343,
      "outputs": [
        {
          "output_type": "stream",
          "name": "stdout",
          "text": [
            "14.706238105491128\n"
          ]
        }
      ]
    },
    {
      "cell_type": "code",
      "source": [
        "y_pred = cnn_model.predict(X_valid).astype(np.int64)\n",
        "y_true = y_valid.astype(np.int64)\n",
        "\n",
        "print(np.sqrt(mean_squared_error(y_true, y_pred))) "
      ],
      "metadata": {
        "colab": {
          "base_uri": "https://localhost:8080/"
        },
        "id": "FhukV01XX7Tw",
        "outputId": "61c3a332-c18f-4b74-fe29-dde548cc1a79"
      },
      "execution_count": 344,
      "outputs": [
        {
          "output_type": "stream",
          "name": "stdout",
          "text": [
            "32.91347803292642\n"
          ]
        }
      ]
    },
    {
      "cell_type": "code",
      "source": [
        "def plot_loss(history):\n",
        "  plt.plot(history.history['loss'], label='loss')\n",
        "  plt.xlabel('Epoch')\n",
        "  plt.ylabel('Error')\n",
        "  plt.legend()\n",
        "  plt.grid(True)"
      ],
      "metadata": {
        "id": "EbZPucjTtNA7"
      },
      "execution_count": 345,
      "outputs": []
    },
    {
      "cell_type": "code",
      "source": [
        "plot_loss(history)"
      ],
      "metadata": {
        "colab": {
          "base_uri": "https://localhost:8080/",
          "height": 279
        },
        "id": "qLbzSItttNyY",
        "outputId": "2f7d391d-7da2-4c8f-b8c8-ca5606b3b98b"
      },
      "execution_count": 346,
      "outputs": [
        {
          "output_type": "display_data",
          "data": {
            "text/plain": [
              "<Figure size 432x288 with 1 Axes>"
            ],
            "image/png": "[encoded data removed]"
          },
          "metadata": {
            "needs_background": "light"
          }
        }
      ]
    }
  ]
}