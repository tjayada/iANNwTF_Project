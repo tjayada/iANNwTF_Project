{
  "nbformat": 4,
  "nbformat_minor": 0,
  "metadata": {
    "colab": {
      "name": "LSTM_airpollution.ipynb",
      "provenance": []
    },
    "kernelspec": {
      "name": "python3",
      "display_name": "Python 3"
    },
    "language_info": {
      "name": "python"
    },
    "accelerator": "GPU"
  },
  "cells": [
    {
      "cell_type": "code",
      "source": [
        "import tensorflow as tf\n",
        "import numpy as np\n",
        "import matplotlib.pyplot as plt\n",
        "import pandas as pd"
      ],
      "metadata": {
        "id": "5K24IDg1kakp"
      },
      "execution_count": 1,
      "outputs": []
    },
    {
      "cell_type": "code",
      "source": [
        "def split_dataset(ds, split_proportions, dataset_size=None):\n",
        "    \"\"\"\n",
        "    Splits a dataset according to given proportions.\n",
        "\n",
        "    Arguments:\n",
        "\n",
        "    ds -- data set to be split\n",
        "    split_proportions -- dictionary, desired proportions\n",
        "    dataset_size -- size of dataset to be split\n",
        "    \"\"\"\n",
        "    if not dataset_size:\n",
        "        dataset_size = len(list(ds))\n",
        "    split_dataset = {}\n",
        "    for key, prop in split_proportions.items():\n",
        "        samples = int(dataset_size * prop)\n",
        "        split_dataset[key] = ds.take(samples)\n",
        "        ds = ds.skip(samples)\n",
        "    return split_dataset"
      ],
      "metadata": {
        "id": "kEHdXAswKTw5"
      },
      "execution_count": 2,
      "outputs": []
    },
    {
      "cell_type": "code",
      "source": [
        "def prepare_dataset(data):\n",
        "    \"\"\"\n",
        "    Executes data preparation operations.\n",
        "\n",
        "    Arguments:\n",
        "\n",
        "    data -- dataset to be prepared\n",
        "    \"\"\"\n",
        "    data = data.cache()\n",
        "    data = data.shuffle(18000)\n",
        "    data = data.batch(64)\n",
        "    data = data.prefetch(100)\n",
        "    return data"
      ],
      "metadata": {
        "id": "LMTJOffjRkqn"
      },
      "execution_count": 3,
      "outputs": []
    },
    {
      "cell_type": "code",
      "source": [
        "# Load Train data from our github repo\n",
        "url_train = 'https://raw.githubusercontent.com/tjayada/iANNwTF_Project/main/data/cleaned%20data%20(1)/data_without_columns_train.csv'\n",
        "url_train_with_locations = 'https://raw.githubusercontent.com/tjayada/iANNwTF_Project/main/data/cleaned%20data%20LSTM%20(1)/LSTM_data_without_columns_train.csv'\n",
        "dataDF_train = pd.read_csv(url_train)\n",
        "\n",
        "# Load Train label data from our github repo\n",
        "url_train_labels = 'https://raw.githubusercontent.com/tjayada/iANNwTF_Project/main/data/cleaned%20data%20(1)/data_without_columns_train_labels.csv'\n",
        "url_train_labels_with_locations = 'https://raw.githubusercontent.com/tjayada/iANNwTF_Project/main/data/cleaned%20data%20LSTM%20(1)/LSTM_data_without_columns_train_labels.csv'\n",
        "dataDF_train_labels = pd.read_csv(url_train_labels)\n",
        "\n",
        "# drop indexes \n",
        "dataDF_train = dataDF_train.drop(\"Unnamed: 0\", axis = 1)\n",
        "dataDF_train_labels = dataDF_train_labels.drop(\"Unnamed: 0\", axis = 1)\n",
        "\n",
        "dataDF_train = dataDF_train.to_numpy()\n",
        "dataDF_train_labels = dataDF_train_labels.to_numpy()\n",
        "\n",
        "# reshape input to be 3D [samples, timesteps, features]\n",
        "dataDF_train = dataDF_train.reshape((dataDF_train.shape[0], 1, dataDF_train.shape[1]))\n",
        "\n",
        "# combine training set and labels\n",
        "ds = tf.data.Dataset.from_tensor_slices((dataDF_train, dataDF_train_labels))\n",
        "\n",
        "#split dataset\n",
        "datasets = split_dataset(ds, {'train': 0.7, 'valid': 0.1, 'test': 0.2})\n",
        "\n",
        "# data preparation\n",
        "datasets = {key: prepare_dataset(ds) for key, ds in datasets.items()}"
      ],
      "metadata": {
        "id": "JguD-EPIm9wi"
      },
      "execution_count": 4,
      "outputs": []
    },
    {
      "cell_type": "code",
      "execution_count": 5,
      "metadata": {
        "id": "czPAED7hjlWF"
      },
      "outputs": [],
      "source": [
        "class LSTM_Cell(tf.keras.layers.Layer):\n",
        "\n",
        "    \"\"\"\n",
        "    Implementation of an LSTM cell.\n",
        "\n",
        "    Parameters:\n",
        "\n",
        "    self.units -- number of units\n",
        "    \"\"\"\n",
        "\n",
        "    def __init__(self, units):\n",
        "        \"\"\"\n",
        "        Constructor for an LSTM cell.\n",
        "\n",
        "        Arguments:\n",
        "\n",
        "        units -- number of units\n",
        "        \"\"\"\n",
        "        super(LSTM_Cell, self).__init__()\n",
        "        self.units = units\n",
        "        # gates\n",
        "        self.forget_gate = tf.keras.layers.Dense(units=units, activation=tf.nn.sigmoid, bias_initializer=tf.keras.initializers.Ones())\n",
        "        self.input_gate = tf.keras.layers.Dense(units=units, activation=tf.nn.sigmoid)\n",
        "        self.cell_state_candidates = tf.keras.layers.Dense(units=units, activation=tf.nn.tanh)\n",
        "        self.output_gate = tf.keras.layers.Dense(units=units, activation=tf.nn.sigmoid)\n",
        "\n",
        "    def call(self, x, states):\n",
        "        \"\"\"\n",
        "        Call method for an LSTM cell. Updates and returns cell state and hidden state.\n",
        "\n",
        "        Arguments:\n",
        "\n",
        "        x -- input\n",
        "        states -- old cell states\n",
        "        \"\"\"\n",
        "        old_cell_state, old_hidden_state = states\n",
        "        x_h = tf.concat([x, old_hidden_state], axis=1)\n",
        "        # update cell state\n",
        "        new_cell_state = tf.math.multiply(self.forget_gate(x_h), old_cell_state) +\\\n",
        "        tf.math.multiply(self.input_gate(x_h), self.cell_state_candidates(x_h))\n",
        "        # update hidden state\n",
        "        new_hidden_state = tf.math.multiply(self.output_gate(x_h), tf.nn.tanh(new_cell_state))\n",
        "\n",
        "        return new_hidden_state, new_cell_state"
      ]
    },
    {
      "cell_type": "code",
      "source": [
        "class LSTM_Layer(tf.keras.layers.Layer):\n",
        "\n",
        "    \"\"\"\n",
        "    Implementation of an LSTM layer.\n",
        "\n",
        "    Parameters:\n",
        "\n",
        "    units: number of units\n",
        "    \"\"\"\n",
        "    def __init__(self, units):\n",
        "        \"\"\"\n",
        "        Constructor for an LSTM layer.\n",
        "\n",
        "        Arguments:\n",
        "\n",
        "        units -- number of units\n",
        "        \"\"\"\n",
        "        super(LSTM_Layer, self).__init__()\n",
        "        self.lstm_1 = LSTM_Cell(units)\n",
        "\n",
        "    @tf.function\n",
        "    def call(self, x, states=None):\n",
        "        \"\"\"\n",
        "        Calls the LSTM layer on given input with given cell states and returns output sequence.\n",
        "\n",
        "        Arguments:\n",
        "\n",
        "        x -- input\n",
        "        states -- cell states\n",
        "        \"\"\"\n",
        "        batch_size = tf.shape(x)[0]\n",
        "        sequence_length = tf.shape(x)[1]\n",
        "        # initialize states\n",
        "        if not states:\n",
        "            states = self.zero_states(batch_size)\n",
        "        # initialize array for output sequence\n",
        "        output_sequence = tf.TensorArray(tf.float32, size=0, dynamic_size=True)\n",
        "        # iterate through time steps in input sequence\n",
        "        for seq_idx in tf.range(sequence_length):\n",
        "            input = x[:, seq_idx]\n",
        "            states = self.lstm_1(input, states)\n",
        "            # write the new hidden state to the output_sequence\n",
        "            output_sequence = output_sequence.write(seq_idx, states[0])\n",
        "        output_sequence = tf.transpose(output_sequence.stack(), perm=[1,0,2])\n",
        "        return output_sequence\n",
        "\n",
        "    def zero_states(self, batch_size):\n",
        "        \"\"\"\n",
        "        Generates and returns zero states by creating two zero tensors.\n",
        "\n",
        "        Arguments:\n",
        "\n",
        "        batch_size -- batch size of data set\n",
        "        \"\"\"\n",
        "        return (tf.zeros((batch_size, self.lstm_1.units)), tf.zeros((batch_size, self.lstm_1.units)))"
      ],
      "metadata": {
        "id": "JFqqKMcIlQUr"
      },
      "execution_count": 6,
      "outputs": []
    },
    {
      "cell_type": "code",
      "source": [
        "class MyModel(tf.keras.Model):\n",
        "\n",
        "    \"\"\"\n",
        "    Implemtation of an LSTM model.\n",
        "\n",
        "    Parameters:\n",
        "\n",
        "    layer_list -- list of model's layers\n",
        "    \"\"\"\n",
        "    def __init__(self, layer_list):\n",
        "        \"\"\"\n",
        "        Constructor for an LSTM model.\n",
        "\n",
        "        Arguments:\n",
        "\n",
        "        layer_list -- list of model's layers\n",
        "        \"\"\"\n",
        "        super(MyModel, self).__init__()\n",
        "        self.layer_list = layer_list\n",
        "\n",
        "    def call(self, x):\n",
        "        \"\"\"\n",
        "        Calls the LSTM model on given inputs and returns outputs.\n",
        "\n",
        "        Arguments:\n",
        "\n",
        "        x -- input\n",
        "        \"\"\"\n",
        "        input = x\n",
        "        for layer in self.layer_list:\n",
        "            input = layer(input)\n",
        "        return input[:,-1,:]        "
      ],
      "metadata": {
        "id": "FDoK8judlTC-"
      },
      "execution_count": 7,
      "outputs": []
    },
    {
      "cell_type": "code",
      "source": [
        "def training(input_model, datasets, loss_function, optimizer, epochs=100):\n",
        "    \"\"\"\n",
        "    Training function. Takes a given model and executes the training loop. \n",
        "    Returns the model's loss.\n",
        "\n",
        "    Arguments:\n",
        "\n",
        "    input_model -- given model\n",
        "    datasets -- data sets to feed into the model\n",
        "    loss_function -- function to calculate the model's loss\n",
        "    optimizer -- given optimizer\n",
        "    epochs -- number of epochs to train\n",
        "    \"\"\"\n",
        "    tf.keras.backend.clear_session()\n",
        "    # Initialize list for tracking loss\n",
        "    losses = {'train':[], 'valid':[], 'test':0}\n",
        "        \n",
        "    # Train-Dataset\n",
        "    train_loss = test(input_model, datasets['train'], loss_function)\n",
        "\n",
        "    losses['train'].append(train_loss)\n",
        "\n",
        "    valid_loss = test(input_model, datasets['valid'], loss_function)\n",
        "\n",
        "    losses['valid'].append(valid_loss)\n",
        "\n",
        "    # Training for epochs\n",
        "    for epoch in range(1, epochs+1):\n",
        "        last_valid_loss = np.round(losses['valid'][-1], 3)\n",
        "        print(f'Epoch {str(epoch)} starting with loss: {last_valid_loss}')\n",
        "        epoch_loss_agg = []\n",
        "        for input, target in datasets['train']:\n",
        "            train_loss = train_step(\n",
        "                input_model, input, target, loss_function, optimizer\n",
        "            )\n",
        "            epoch_loss_agg.append(train_loss)\n",
        "        # track training loss and accuracy\n",
        "        losses['train'].append(tf.reduce_mean(epoch_loss_agg))\n",
        "        # track loss and accuracy for test-dataset\n",
        "        valid_loss = test(input_model, datasets['valid'], loss_function)\n",
        "        losses['valid'].append(valid_loss)\n",
        "    test_loss = test(input_model, datasets['test'], loss_function)\n",
        "\n",
        "    losses['test'] = test_loss  \n",
        "\n",
        "    return losses"
      ],
      "metadata": {
        "id": "XYbg7Op_lwhV"
      },
      "execution_count": 14,
      "outputs": []
    },
    {
      "cell_type": "code",
      "source": [
        "def train_step(model, input, target, loss_function, optimizer):\n",
        "    \"\"\"\n",
        "    Implements a step in the training loop.\n",
        "    Returns loss.\n",
        "\n",
        "    Arguments:\n",
        "\n",
        "    model -- given model\n",
        "    input -- data input for the model to calculate a prediction\n",
        "    target -- target to calculate loss\n",
        "    optimizer -- given optimizer\n",
        "    \"\"\"\n",
        "    with tf.GradientTape() as tape:\n",
        "        # get a prediction from the model\n",
        "        prediction = model(input)\n",
        "        # calculate loss for this prediction\n",
        "        loss = loss_function(target, prediction)\n",
        "    gradients = tape.gradient(loss, model.trainable_variables)\n",
        "    # apply gradients to the trainable variables using a optimizer\n",
        "    optimizer.apply_gradients(zip(gradients, model.trainable_variables))\n",
        "    return tf.sqrt(loss)"
      ],
      "metadata": {
        "id": "y-maLKWclySZ"
      },
      "execution_count": 10,
      "outputs": []
    },
    {
      "cell_type": "code",
      "source": [
        "def test(model, test_data, loss_function):\n",
        "    \"\"\"\n",
        "    Test function. Calculates and returns test loss.\n",
        "\n",
        "    Arguments:\n",
        "\n",
        "    model -- given model\n",
        "    test_data -- testing data set\n",
        "    loss_function -- given loss function \n",
        "    \"\"\"\n",
        "    # aggregator lists for tracking the loss and accuracy\n",
        "    test_loss_agg = []\n",
        "    # iterate over all input-target pairs in test_data\n",
        "    for (input, target) in test_data:\n",
        "        prediction = model(input)\n",
        "        loss = loss_function(target, prediction)\n",
        "        # add loss and accuracy to aggregators\n",
        "        test_loss_agg.append(loss.numpy())\n",
        "    # calculate mean loss and accuracy\n",
        "    test_loss = tf.reduce_mean(test_loss_agg)\n",
        "    return tf.sqrt(test_loss)"
      ],
      "metadata": {
        "id": "vUbYVOVal0AI"
      },
      "execution_count": 11,
      "outputs": []
    },
    {
      "cell_type": "code",
      "source": [
        "Model = MyModel(layer_list=[\n",
        "    LSTM_Layer(200),\n",
        "    tf.keras.layers.Dense(1, activation='linear')]\n",
        ")\n",
        "learning_rate = 0.01\n",
        "# Initialize the loss-function\n",
        "loss_func = tf.keras.losses.MeanSquaredError()\n",
        "# Initialize the optimizer\n",
        "optimizer = tf.keras.optimizers.Adam(learning_rate)\n",
        "# Train our LSTM-Model using datasets, loss_func and the optimizer\n",
        "losses = training(Model, datasets, loss_func, optimizer, epochs=10)"
      ],
      "metadata": {
        "id": "tfmmq8sRl2vv",
        "colab": {
          "base_uri": "https://localhost:8080/"
        },
        "outputId": "50f8e3db-9126-401e-9414-2ccbe21790dc"
      },
      "execution_count": 15,
      "outputs": [
        {
          "output_type": "stream",
          "name": "stdout",
          "text": [
            "Epoch 1 starting with loss: 96.63099670410156\n",
            "Epoch 2 starting with loss: 55.678001403808594\n",
            "Epoch 3 starting with loss: 55.499000549316406\n",
            "Epoch 4 starting with loss: 50.23899841308594\n",
            "Epoch 5 starting with loss: 46.27000045776367\n",
            "Epoch 6 starting with loss: 44.73899841308594\n",
            "Epoch 7 starting with loss: 45.237998962402344\n",
            "Epoch 8 starting with loss: 42.20899963378906\n",
            "Epoch 9 starting with loss: 41.21900177001953\n",
            "Epoch 10 starting with loss: 43.540000915527344\n"
          ]
        }
      ]
    },
    {
      "cell_type": "code",
      "source": [
        "# Visualize accuracy and loss for training and test data.\n",
        "import matplotlib.pyplot as plt\n",
        "plt.figure()\n",
        "line1, = plt.plot(losses['valid'])\n",
        "line2, = plt.plot(losses['train'])\n",
        "#line3 = plt.axhline(y=accuracies['test'], color='green', linestyle=\":\")\n",
        "\n",
        "plt.xlabel(\"Epochs\")\n",
        "plt.ylabel(\"Loss\")\n",
        "plt.legend((line1, line2),(\"training losses\", \"test losses\"))\n",
        "plt.show()"
      ],
      "metadata": {
        "id": "CVV3iU6dl4xh",
        "colab": {
          "base_uri": "https://localhost:8080/",
          "height": 279
        },
        "outputId": "5350416d-7004-4443-e287-f2795f60a194"
      },
      "execution_count": 16,
      "outputs": [
        {
          "output_type": "display_data",
          "data": {
            "text/plain": [
              "<Figure size 432x288 with 1 Axes>"
            ],
            "image/png": "[encoded data removed]"
          },
          "metadata": {
            "needs_background": "light"
          }
        }
      ]
    }
  ]
}