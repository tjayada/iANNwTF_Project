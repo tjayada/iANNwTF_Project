{
  "nbformat": 4,
  "nbformat_minor": 0,
  "metadata": {
    "colab": {
      "name": "10_finished_basic_LSTM_regression.ipynb",
      "provenance": [],
      "collapsed_sections": []
    },
    "kernelspec": {
      "name": "python3",
      "display_name": "Python 3"
    },
    "language_info": {
      "name": "python"
    },
    "accelerator": "GPU"
  },
  "cells": [
    {
      "cell_type": "code",
      "execution_count": 16,
      "metadata": {
        "id": "NvylAiAbARB8"
      },
      "outputs": [],
      "source": [
        "import pandas as pd\n",
        "import matplotlib.pyplot as plt\n",
        "import tensorflow as tf\n",
        "import numpy as np\n",
        "from sklearn.model_selection import train_test_split"
      ]
    },
    {
      "cell_type": "code",
      "source": [
        "# Load Train data from our github repo\n",
        "url_train = 'https://raw.githubusercontent.com/tjayada/iANNwTF_Project/main/data/cleaned%20data%20(1)/data_without_columns_train.csv'\n",
        "dataDF_train = pd.read_csv(url_train)\n",
        "\n",
        "# Load Train label data from our github repo\n",
        "url_train_labels = 'https://raw.githubusercontent.com/tjayada/iANNwTF_Project/main/data/cleaned%20data%20(1)/data_without_columns_train_labels.csv'\n",
        "dataDF_train_labels = pd.read_csv(url_train_labels)"
      ],
      "metadata": {
        "id": "y-ZqzYtCAg8Q"
      },
      "execution_count": 17,
      "outputs": []
    },
    {
      "cell_type": "code",
      "source": [
        "# drop indices \n",
        "dataDF_train = dataDF_train.drop(\"Unnamed: 0\", axis = 1)\n",
        "dataDF_train_labels = dataDF_train_labels.drop(\"Unnamed: 0\", axis = 1)"
      ],
      "metadata": {
        "id": "jZaIHdk7AksN"
      },
      "execution_count": 18,
      "outputs": []
    },
    {
      "cell_type": "code",
      "source": [
        "# reshape input to be 3D [samples, timesteps, features]\n",
        "dataDF_train = dataDF_train.to_numpy()\n",
        "dataDF_train_labels = dataDF_train_labels.to_numpy()\n",
        "\n",
        "dataDF_train = dataDF_train.reshape((dataDF_train.shape[0], 1, dataDF_train.shape[1]))"
      ],
      "metadata": {
        "id": "X2LPzGO6AlEE"
      },
      "execution_count": 19,
      "outputs": []
    },
    {
      "cell_type": "code",
      "source": [
        "# split data into training and test\n",
        "X_train, X_valid, y_train, y_valid = train_test_split(dataDF_train, dataDF_train_labels, test_size=0.25, random_state=1)"
      ],
      "metadata": {
        "id": "akQBofsOAm8r"
      },
      "execution_count": 20,
      "outputs": []
    },
    {
      "cell_type": "code",
      "source": [
        "# use functional API of tensorflow to generate model\n",
        "model = tf.keras.Sequential()\n",
        "model.add(tf.keras.layers.LSTM(200))\n",
        "model.add(tf.keras.layers.Dense(1))"
      ],
      "metadata": {
        "id": "oMD25wptApI9"
      },
      "execution_count": 21,
      "outputs": []
    },
    {
      "cell_type": "code",
      "source": [
        "# use the functional API to compile our model with a Mean Squared Error as a loss function\n",
        "# and using the optimizer Adam with a learning rate of 0.01\n",
        "model.compile(loss='mse',\n",
        "                metrics=[tf.keras.metrics.RootMeanSquaredError()],\n",
        "                optimizer=tf.keras.optimizers.Adam(0.01))"
      ],
      "metadata": {
        "id": "j9xKuc0cAuiK"
      },
      "execution_count": 22,
      "outputs": []
    },
    {
      "cell_type": "code",
      "source": [
        "# train our model using the functional API \n",
        "# we train for 200 epochs\n",
        "history = model.fit(\n",
        "    X_train, y_train,\n",
        "    batch_size = 64,\n",
        "    epochs=100,\n",
        "    validation_data=(X_valid, y_valid),\n",
        "    verbose=1,\n",
        "    shuffle = False,\n",
        "    validation_split = 0.1\n",
        "    )"
      ],
      "metadata": {
        "colab": {
          "base_uri": "https://localhost:8080/"
        },
        "id": "FoCoRgSOAzax",
        "outputId": "ea9b3f1a-4326-42f3-a67b-01cd95d9b010"
      },
      "execution_count": 23,
      "outputs": [
        {
          "output_type": "stream",
          "name": "stdout",
          "text": [
            "Epoch 1/100\n",
            "193/193 [==============================] - 4s 8ms/step - loss: 2599.0923 - root_mean_squared_error: 50.9813 - val_loss: 2182.1641 - val_root_mean_squared_error: 46.7136\n",
            "Epoch 2/100\n",
            "193/193 [==============================] - 1s 5ms/step - loss: 2297.1787 - root_mean_squared_error: 47.9289 - val_loss: 2095.7234 - val_root_mean_squared_error: 45.7791\n",
            "Epoch 3/100\n",
            "193/193 [==============================] - 1s 5ms/step - loss: 2198.1731 - root_mean_squared_error: 46.8847 - val_loss: 1997.0581 - val_root_mean_squared_error: 44.6885\n",
            "Epoch 4/100\n",
            "193/193 [==============================] - 1s 5ms/step - loss: 2062.8540 - root_mean_squared_error: 45.4187 - val_loss: 1810.4681 - val_root_mean_squared_error: 42.5496\n",
            "Epoch 5/100\n",
            "193/193 [==============================] - 1s 5ms/step - loss: 1807.9912 - root_mean_squared_error: 42.5205 - val_loss: 1534.1442 - val_root_mean_squared_error: 39.1682\n",
            "Epoch 6/100\n",
            "193/193 [==============================] - 1s 5ms/step - loss: 1571.7906 - root_mean_squared_error: 39.6458 - val_loss: 1354.6836 - val_root_mean_squared_error: 36.8060\n",
            "Epoch 7/100\n",
            "193/193 [==============================] - 1s 5ms/step - loss: 1454.0320 - root_mean_squared_error: 38.1318 - val_loss: 1273.4589 - val_root_mean_squared_error: 35.6856\n",
            "Epoch 8/100\n",
            "193/193 [==============================] - 1s 5ms/step - loss: 1398.7467 - root_mean_squared_error: 37.3998 - val_loss: 1231.3339 - val_root_mean_squared_error: 35.0904\n",
            "Epoch 9/100\n",
            "193/193 [==============================] - 1s 5ms/step - loss: 1364.5416 - root_mean_squared_error: 36.9397 - val_loss: 1203.2126 - val_root_mean_squared_error: 34.6874\n",
            "Epoch 10/100\n",
            "193/193 [==============================] - 1s 5ms/step - loss: 1336.8081 - root_mean_squared_error: 36.5624 - val_loss: 1180.0981 - val_root_mean_squared_error: 34.3526\n",
            "Epoch 11/100\n",
            "193/193 [==============================] - 1s 5ms/step - loss: 1310.7932 - root_mean_squared_error: 36.2049 - val_loss: 1158.1970 - val_root_mean_squared_error: 34.0323\n",
            "Epoch 12/100\n",
            "193/193 [==============================] - 1s 5ms/step - loss: 1286.5214 - root_mean_squared_error: 35.8681 - val_loss: 1139.9348 - val_root_mean_squared_error: 33.7629\n",
            "Epoch 13/100\n",
            "193/193 [==============================] - 1s 6ms/step - loss: 1264.7861 - root_mean_squared_error: 35.5638 - val_loss: 1120.0829 - val_root_mean_squared_error: 33.4676\n",
            "Epoch 14/100\n",
            "193/193 [==============================] - 1s 5ms/step - loss: 1245.6189 - root_mean_squared_error: 35.2933 - val_loss: 1104.3030 - val_root_mean_squared_error: 33.2311\n",
            "Epoch 15/100\n",
            "193/193 [==============================] - 1s 5ms/step - loss: 1229.7501 - root_mean_squared_error: 35.0678 - val_loss: 1092.0039 - val_root_mean_squared_error: 33.0455\n",
            "Epoch 16/100\n",
            "193/193 [==============================] - 1s 5ms/step - loss: 1214.9779 - root_mean_squared_error: 34.8565 - val_loss: 1083.1605 - val_root_mean_squared_error: 32.9114\n",
            "Epoch 17/100\n",
            "193/193 [==============================] - 1s 6ms/step - loss: 1202.2145 - root_mean_squared_error: 34.6730 - val_loss: 1072.6121 - val_root_mean_squared_error: 32.7508\n",
            "Epoch 18/100\n",
            "193/193 [==============================] - 1s 6ms/step - loss: 1190.5873 - root_mean_squared_error: 34.5049 - val_loss: 1068.4338 - val_root_mean_squared_error: 32.6869\n",
            "Epoch 19/100\n",
            "193/193 [==============================] - 1s 6ms/step - loss: 1180.5410 - root_mean_squared_error: 34.3590 - val_loss: 1060.7203 - val_root_mean_squared_error: 32.5687\n",
            "Epoch 20/100\n",
            "193/193 [==============================] - 1s 6ms/step - loss: 1171.6924 - root_mean_squared_error: 34.2300 - val_loss: 1054.4200 - val_root_mean_squared_error: 32.4718\n",
            "Epoch 21/100\n",
            "193/193 [==============================] - 1s 5ms/step - loss: 1163.0265 - root_mean_squared_error: 34.1032 - val_loss: 1049.8361 - val_root_mean_squared_error: 32.4012\n",
            "Epoch 22/100\n",
            "193/193 [==============================] - 1s 5ms/step - loss: 1154.2281 - root_mean_squared_error: 33.9739 - val_loss: 1045.6766 - val_root_mean_squared_error: 32.3369\n",
            "Epoch 23/100\n",
            "193/193 [==============================] - 1s 6ms/step - loss: 1146.6184 - root_mean_squared_error: 33.8618 - val_loss: 1041.2806 - val_root_mean_squared_error: 32.2689\n",
            "Epoch 24/100\n",
            "193/193 [==============================] - 1s 5ms/step - loss: 1139.2612 - root_mean_squared_error: 33.7529 - val_loss: 1037.8484 - val_root_mean_squared_error: 32.2157\n",
            "Epoch 25/100\n",
            "193/193 [==============================] - 1s 5ms/step - loss: 1132.3364 - root_mean_squared_error: 33.6502 - val_loss: 1034.5984 - val_root_mean_squared_error: 32.1652\n",
            "Epoch 26/100\n",
            "193/193 [==============================] - 1s 5ms/step - loss: 1125.6071 - root_mean_squared_error: 33.5501 - val_loss: 1030.7134 - val_root_mean_squared_error: 32.1047\n",
            "Epoch 27/100\n",
            "193/193 [==============================] - 1s 5ms/step - loss: 1120.0939 - root_mean_squared_error: 33.4678 - val_loss: 1026.6503 - val_root_mean_squared_error: 32.0414\n",
            "Epoch 28/100\n",
            "193/193 [==============================] - 1s 5ms/step - loss: 1113.4224 - root_mean_squared_error: 33.3680 - val_loss: 1024.5431 - val_root_mean_squared_error: 32.0085\n",
            "Epoch 29/100\n",
            "193/193 [==============================] - 1s 5ms/step - loss: 1107.0569 - root_mean_squared_error: 33.2725 - val_loss: 1020.8005 - val_root_mean_squared_error: 31.9500\n",
            "Epoch 30/100\n",
            "193/193 [==============================] - 1s 5ms/step - loss: 1100.9441 - root_mean_squared_error: 33.1805 - val_loss: 1017.2933 - val_root_mean_squared_error: 31.8950\n",
            "Epoch 31/100\n",
            "193/193 [==============================] - 1s 6ms/step - loss: 1094.7004 - root_mean_squared_error: 33.0863 - val_loss: 1013.3376 - val_root_mean_squared_error: 31.8330\n",
            "Epoch 32/100\n",
            "193/193 [==============================] - 1s 6ms/step - loss: 1088.0260 - root_mean_squared_error: 32.9852 - val_loss: 1009.8790 - val_root_mean_squared_error: 31.7786\n",
            "Epoch 33/100\n",
            "193/193 [==============================] - 1s 6ms/step - loss: 1083.4924 - root_mean_squared_error: 32.9164 - val_loss: 1007.4285 - val_root_mean_squared_error: 31.7400\n",
            "Epoch 34/100\n",
            "193/193 [==============================] - 1s 5ms/step - loss: 1076.6490 - root_mean_squared_error: 32.8123 - val_loss: 1004.1696 - val_root_mean_squared_error: 31.6886\n",
            "Epoch 35/100\n",
            "193/193 [==============================] - 1s 6ms/step - loss: 1070.8536 - root_mean_squared_error: 32.7239 - val_loss: 1001.5084 - val_root_mean_squared_error: 31.6466\n",
            "Epoch 36/100\n",
            "193/193 [==============================] - 1s 5ms/step - loss: 1064.5829 - root_mean_squared_error: 32.6279 - val_loss: 997.5573 - val_root_mean_squared_error: 31.5841\n",
            "Epoch 37/100\n",
            "193/193 [==============================] - 1s 6ms/step - loss: 1058.1302 - root_mean_squared_error: 32.5289 - val_loss: 994.1856 - val_root_mean_squared_error: 31.5307\n",
            "Epoch 38/100\n",
            "193/193 [==============================] - 1s 5ms/step - loss: 1051.9908 - root_mean_squared_error: 32.4344 - val_loss: 990.5839 - val_root_mean_squared_error: 31.4735\n",
            "Epoch 39/100\n",
            "193/193 [==============================] - 1s 6ms/step - loss: 1045.1217 - root_mean_squared_error: 32.3283 - val_loss: 985.7791 - val_root_mean_squared_error: 31.3971\n",
            "Epoch 40/100\n",
            "193/193 [==============================] - 1s 5ms/step - loss: 1039.0850 - root_mean_squared_error: 32.2348 - val_loss: 982.1233 - val_root_mean_squared_error: 31.3388\n",
            "Epoch 41/100\n",
            "193/193 [==============================] - 1s 5ms/step - loss: 1033.0115 - root_mean_squared_error: 32.1405 - val_loss: 976.6000 - val_root_mean_squared_error: 31.2506\n",
            "Epoch 42/100\n",
            "193/193 [==============================] - 1s 6ms/step - loss: 1026.8781 - root_mean_squared_error: 32.0449 - val_loss: 973.8759 - val_root_mean_squared_error: 31.2070\n",
            "Epoch 43/100\n",
            "193/193 [==============================] - 1s 6ms/step - loss: 1020.4355 - root_mean_squared_error: 31.9443 - val_loss: 969.8680 - val_root_mean_squared_error: 31.1427\n",
            "Epoch 44/100\n",
            "193/193 [==============================] - 1s 5ms/step - loss: 1014.0886 - root_mean_squared_error: 31.8448 - val_loss: 967.0877 - val_root_mean_squared_error: 31.0980\n",
            "Epoch 45/100\n",
            "193/193 [==============================] - 1s 5ms/step - loss: 1008.3431 - root_mean_squared_error: 31.7544 - val_loss: 962.5028 - val_root_mean_squared_error: 31.0242\n",
            "Epoch 46/100\n",
            "193/193 [==============================] - 1s 5ms/step - loss: 1002.0142 - root_mean_squared_error: 31.6546 - val_loss: 960.7325 - val_root_mean_squared_error: 30.9957\n",
            "Epoch 47/100\n",
            "193/193 [==============================] - 1s 5ms/step - loss: 995.9791 - root_mean_squared_error: 31.5591 - val_loss: 958.1349 - val_root_mean_squared_error: 30.9538\n",
            "Epoch 48/100\n",
            "193/193 [==============================] - 1s 5ms/step - loss: 989.8850 - root_mean_squared_error: 31.4624 - val_loss: 955.6883 - val_root_mean_squared_error: 30.9142\n",
            "Epoch 49/100\n",
            "193/193 [==============================] - 1s 5ms/step - loss: 982.9736 - root_mean_squared_error: 31.3524 - val_loss: 953.4343 - val_root_mean_squared_error: 30.8777\n",
            "Epoch 50/100\n",
            "193/193 [==============================] - 1s 5ms/step - loss: 976.4143 - root_mean_squared_error: 31.2476 - val_loss: 951.1371 - val_root_mean_squared_error: 30.8405\n",
            "Epoch 51/100\n",
            "193/193 [==============================] - 1s 5ms/step - loss: 969.7184 - root_mean_squared_error: 31.1403 - val_loss: 948.6529 - val_root_mean_squared_error: 30.8002\n",
            "Epoch 52/100\n",
            "193/193 [==============================] - 1s 5ms/step - loss: 963.2021 - root_mean_squared_error: 31.0355 - val_loss: 945.9139 - val_root_mean_squared_error: 30.7557\n",
            "Epoch 53/100\n",
            "193/193 [==============================] - 1s 5ms/step - loss: 956.6514 - root_mean_squared_error: 30.9298 - val_loss: 943.2125 - val_root_mean_squared_error: 30.7118\n",
            "Epoch 54/100\n",
            "193/193 [==============================] - 1s 5ms/step - loss: 950.0832 - root_mean_squared_error: 30.8234 - val_loss: 941.3618 - val_root_mean_squared_error: 30.6816\n",
            "Epoch 55/100\n",
            "193/193 [==============================] - 1s 5ms/step - loss: 943.3016 - root_mean_squared_error: 30.7132 - val_loss: 938.5877 - val_root_mean_squared_error: 30.6364\n",
            "Epoch 56/100\n",
            "193/193 [==============================] - 1s 5ms/step - loss: 936.7706 - root_mean_squared_error: 30.6067 - val_loss: 935.2236 - val_root_mean_squared_error: 30.5814\n",
            "Epoch 57/100\n",
            "193/193 [==============================] - 1s 5ms/step - loss: 930.8540 - root_mean_squared_error: 30.5099 - val_loss: 933.3022 - val_root_mean_squared_error: 30.5500\n",
            "Epoch 58/100\n",
            "193/193 [==============================] - 1s 5ms/step - loss: 923.8019 - root_mean_squared_error: 30.3941 - val_loss: 930.1558 - val_root_mean_squared_error: 30.4985\n",
            "Epoch 59/100\n",
            "193/193 [==============================] - 1s 5ms/step - loss: 917.1451 - root_mean_squared_error: 30.2844 - val_loss: 927.7188 - val_root_mean_squared_error: 30.4585\n",
            "Epoch 60/100\n",
            "193/193 [==============================] - 1s 5ms/step - loss: 910.7665 - root_mean_squared_error: 30.1789 - val_loss: 927.8933 - val_root_mean_squared_error: 30.4613\n",
            "Epoch 61/100\n",
            "193/193 [==============================] - 1s 5ms/step - loss: 904.1778 - root_mean_squared_error: 30.0696 - val_loss: 925.9394 - val_root_mean_squared_error: 30.4293\n",
            "Epoch 62/100\n",
            "193/193 [==============================] - 1s 6ms/step - loss: 897.7681 - root_mean_squared_error: 29.9628 - val_loss: 924.9482 - val_root_mean_squared_error: 30.4130\n",
            "Epoch 63/100\n",
            "193/193 [==============================] - 1s 5ms/step - loss: 891.2859 - root_mean_squared_error: 29.8544 - val_loss: 925.1531 - val_root_mean_squared_error: 30.4163\n",
            "Epoch 64/100\n",
            "193/193 [==============================] - 1s 5ms/step - loss: 885.3122 - root_mean_squared_error: 29.7542 - val_loss: 923.1096 - val_root_mean_squared_error: 30.3827\n",
            "Epoch 65/100\n",
            "193/193 [==============================] - 1s 5ms/step - loss: 878.5007 - root_mean_squared_error: 29.6395 - val_loss: 921.9960 - val_root_mean_squared_error: 30.3644\n",
            "Epoch 66/100\n",
            "193/193 [==============================] - 1s 5ms/step - loss: 872.3069 - root_mean_squared_error: 29.5348 - val_loss: 922.1185 - val_root_mean_squared_error: 30.3664\n",
            "Epoch 67/100\n",
            "193/193 [==============================] - 1s 5ms/step - loss: 867.0103 - root_mean_squared_error: 29.4450 - val_loss: 918.8705 - val_root_mean_squared_error: 30.3129\n",
            "Epoch 68/100\n",
            "193/193 [==============================] - 1s 5ms/step - loss: 860.3279 - root_mean_squared_error: 29.3313 - val_loss: 917.7280 - val_root_mean_squared_error: 30.2940\n",
            "Epoch 69/100\n",
            "193/193 [==============================] - 1s 5ms/step - loss: 853.2301 - root_mean_squared_error: 29.2101 - val_loss: 916.7001 - val_root_mean_squared_error: 30.2771\n",
            "Epoch 70/100\n",
            "193/193 [==============================] - 1s 5ms/step - loss: 846.5994 - root_mean_squared_error: 29.0964 - val_loss: 916.1575 - val_root_mean_squared_error: 30.2681\n",
            "Epoch 71/100\n",
            "193/193 [==============================] - 1s 5ms/step - loss: 839.7759 - root_mean_squared_error: 28.9789 - val_loss: 915.5263 - val_root_mean_squared_error: 30.2577\n",
            "Epoch 72/100\n",
            "193/193 [==============================] - 1s 5ms/step - loss: 832.6781 - root_mean_squared_error: 28.8562 - val_loss: 914.5240 - val_root_mean_squared_error: 30.2411\n",
            "Epoch 73/100\n",
            "193/193 [==============================] - 1s 5ms/step - loss: 826.1376 - root_mean_squared_error: 28.7426 - val_loss: 913.3002 - val_root_mean_squared_error: 30.2209\n",
            "Epoch 74/100\n",
            "193/193 [==============================] - 1s 5ms/step - loss: 820.1264 - root_mean_squared_error: 28.6378 - val_loss: 911.6615 - val_root_mean_squared_error: 30.1937\n",
            "Epoch 75/100\n",
            "193/193 [==============================] - 1s 5ms/step - loss: 813.9890 - root_mean_squared_error: 28.5305 - val_loss: 911.4738 - val_root_mean_squared_error: 30.1906\n",
            "Epoch 76/100\n",
            "193/193 [==============================] - 1s 5ms/step - loss: 807.7390 - root_mean_squared_error: 28.4207 - val_loss: 910.5730 - val_root_mean_squared_error: 30.1757\n",
            "Epoch 77/100\n",
            "193/193 [==============================] - 1s 5ms/step - loss: 801.6685 - root_mean_squared_error: 28.3138 - val_loss: 909.6259 - val_root_mean_squared_error: 30.1600\n",
            "Epoch 78/100\n",
            "193/193 [==============================] - 1s 5ms/step - loss: 795.1838 - root_mean_squared_error: 28.1990 - val_loss: 908.3907 - val_root_mean_squared_error: 30.1395\n",
            "Epoch 79/100\n",
            "193/193 [==============================] - 1s 6ms/step - loss: 788.6664 - root_mean_squared_error: 28.0832 - val_loss: 907.7575 - val_root_mean_squared_error: 30.1290\n",
            "Epoch 80/100\n",
            "193/193 [==============================] - 1s 6ms/step - loss: 784.0789 - root_mean_squared_error: 28.0014 - val_loss: 907.3458 - val_root_mean_squared_error: 30.1222\n",
            "Epoch 81/100\n",
            "193/193 [==============================] - 1s 5ms/step - loss: 777.1417 - root_mean_squared_error: 27.8773 - val_loss: 905.9272 - val_root_mean_squared_error: 30.0986\n",
            "Epoch 82/100\n",
            "193/193 [==============================] - 1s 5ms/step - loss: 770.5369 - root_mean_squared_error: 27.7585 - val_loss: 906.4432 - val_root_mean_squared_error: 30.1072\n",
            "Epoch 83/100\n",
            "193/193 [==============================] - 1s 6ms/step - loss: 764.7346 - root_mean_squared_error: 27.6538 - val_loss: 906.2010 - val_root_mean_squared_error: 30.1032\n",
            "Epoch 84/100\n",
            "193/193 [==============================] - 1s 5ms/step - loss: 758.7138 - root_mean_squared_error: 27.5448 - val_loss: 904.7153 - val_root_mean_squared_error: 30.0785\n",
            "Epoch 85/100\n",
            "193/193 [==============================] - 1s 5ms/step - loss: 752.7012 - root_mean_squared_error: 27.4354 - val_loss: 903.7557 - val_root_mean_squared_error: 30.0625\n",
            "Epoch 86/100\n",
            "193/193 [==============================] - 1s 6ms/step - loss: 747.7155 - root_mean_squared_error: 27.3444 - val_loss: 905.0837 - val_root_mean_squared_error: 30.0846\n",
            "Epoch 87/100\n",
            "193/193 [==============================] - 1s 5ms/step - loss: 741.3630 - root_mean_squared_error: 27.2280 - val_loss: 904.9346 - val_root_mean_squared_error: 30.0821\n",
            "Epoch 88/100\n",
            "193/193 [==============================] - 1s 5ms/step - loss: 736.0840 - root_mean_squared_error: 27.1309 - val_loss: 899.4519 - val_root_mean_squared_error: 29.9909\n",
            "Epoch 89/100\n",
            "193/193 [==============================] - 1s 5ms/step - loss: 731.0075 - root_mean_squared_error: 27.0372 - val_loss: 900.7584 - val_root_mean_squared_error: 30.0126\n",
            "Epoch 90/100\n",
            "193/193 [==============================] - 1s 5ms/step - loss: 724.9501 - root_mean_squared_error: 26.9249 - val_loss: 900.4455 - val_root_mean_squared_error: 30.0074\n",
            "Epoch 91/100\n",
            "193/193 [==============================] - 1s 5ms/step - loss: 719.1852 - root_mean_squared_error: 26.8176 - val_loss: 901.9888 - val_root_mean_squared_error: 30.0331\n",
            "Epoch 92/100\n",
            "193/193 [==============================] - 1s 5ms/step - loss: 713.1101 - root_mean_squared_error: 26.7041 - val_loss: 901.8735 - val_root_mean_squared_error: 30.0312\n",
            "Epoch 93/100\n",
            "193/193 [==============================] - 1s 5ms/step - loss: 707.7162 - root_mean_squared_error: 26.6029 - val_loss: 902.5311 - val_root_mean_squared_error: 30.0422\n",
            "Epoch 94/100\n",
            "193/193 [==============================] - 1s 5ms/step - loss: 703.4318 - root_mean_squared_error: 26.5223 - val_loss: 903.0060 - val_root_mean_squared_error: 30.0501\n",
            "Epoch 95/100\n",
            "193/193 [==============================] - 1s 5ms/step - loss: 697.0594 - root_mean_squared_error: 26.4019 - val_loss: 901.8307 - val_root_mean_squared_error: 30.0305\n",
            "Epoch 96/100\n",
            "193/193 [==============================] - 1s 5ms/step - loss: 692.4648 - root_mean_squared_error: 26.3147 - val_loss: 902.8864 - val_root_mean_squared_error: 30.0481\n",
            "Epoch 97/100\n",
            "193/193 [==============================] - 1s 5ms/step - loss: 687.6487 - root_mean_squared_error: 26.2231 - val_loss: 902.0292 - val_root_mean_squared_error: 30.0338\n",
            "Epoch 98/100\n",
            "193/193 [==============================] - 1s 5ms/step - loss: 681.5004 - root_mean_squared_error: 26.1056 - val_loss: 901.7648 - val_root_mean_squared_error: 30.0294\n",
            "Epoch 99/100\n",
            "193/193 [==============================] - 1s 5ms/step - loss: 677.5131 - root_mean_squared_error: 26.0291 - val_loss: 902.5714 - val_root_mean_squared_error: 30.0428\n",
            "Epoch 100/100\n",
            "193/193 [==============================] - 1s 5ms/step - loss: 671.7496 - root_mean_squared_error: 25.9181 - val_loss: 904.3649 - val_root_mean_squared_error: 30.0727\n"
          ]
        }
      ]
    },
    {
      "cell_type": "code",
      "source": [
        "# function to plot the losses of our model\n",
        "def plot_loss(history):\n",
        "  plt.plot(np.sqrt(history.history['loss']), label='loss')\n",
        "  plt.plot(np.sqrt(history.history['val_loss']), label='val_loss')\n",
        "  plt.title('Basic LSTM - Data shuffled - No Location ')\n",
        "  plt.xlabel('Epoch')\n",
        "  plt.ylabel('Error')\n",
        "  plt.ylim(25,60)\n",
        "  plt.legend()\n",
        "  plt.grid(True)"
      ],
      "metadata": {
        "id": "nsGeWsOLA3gj"
      },
      "execution_count": 24,
      "outputs": []
    },
    {
      "cell_type": "code",
      "source": [
        "plot_loss(history)"
      ],
      "metadata": {
        "colab": {
          "base_uri": "https://localhost:8080/",
          "height": 295
        },
        "id": "nZpAOOxyA5wn",
        "outputId": "5fdc807b-2c0f-4784-a7e3-d5337ea87f0a"
      },
      "execution_count": 25,
      "outputs": [
        {
          "output_type": "display_data",
          "data": {
            "text/plain": [
              "<Figure size 432x288 with 1 Axes>"
            ],
            "image/png": "[encoded data removed]"
          },
          "metadata": {
            "needs_background": "light"
          }
        }
      ]
    }
  ]
}