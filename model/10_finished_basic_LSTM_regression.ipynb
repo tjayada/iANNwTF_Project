{
  "nbformat": 4,
  "nbformat_minor": 0,
  "metadata": {
    "colab": {
      "name": "10_finished_basic_LSTM_regression.ipynb",
      "provenance": [],
      "collapsed_sections": []
    },
    "kernelspec": {
      "name": "python3",
      "display_name": "Python 3"
    },
    "language_info": {
      "name": "python"
    },
    "accelerator": "GPU"
  },
  "cells": [
    {
      "cell_type": "code",
      "execution_count": 2,
      "metadata": {
        "id": "NvylAiAbARB8"
      },
      "outputs": [],
      "source": [
        "import pandas as pd\n",
        "import matplotlib.pyplot as plt\n",
        "import tensorflow as tf\n",
        "import numpy as np\n",
        "from sklearn.model_selection import train_test_split"
      ]
    },
    {
      "cell_type": "code",
      "source": [
        "# Load Train data from our github repo\n",
        "url_train = 'https://raw.githubusercontent.com/tjayada/iANNwTF_Project/main/data/cleaned%20data%20(1)/data_without_columns_train.csv'\n",
        "dataDF_train = pd.read_csv(url_train)\n",
        "\n",
        "# Load Train label data from our github repo\n",
        "url_train_labels = 'https://raw.githubusercontent.com/tjayada/iANNwTF_Project/main/data/cleaned%20data%20(1)/data_without_columns_train_labels.csv'\n",
        "dataDF_train_labels = pd.read_csv(url_train_labels)"
      ],
      "metadata": {
        "id": "y-ZqzYtCAg8Q"
      },
      "execution_count": 3,
      "outputs": []
    },
    {
      "cell_type": "code",
      "source": [
        "# drop indices \n",
        "dataDF_train = dataDF_train.drop(\"Unnamed: 0\", axis = 1)\n",
        "dataDF_train_labels = dataDF_train_labels.drop(\"Unnamed: 0\", axis = 1)"
      ],
      "metadata": {
        "id": "jZaIHdk7AksN"
      },
      "execution_count": 4,
      "outputs": []
    },
    {
      "cell_type": "code",
      "source": [
        "# reshape input to be 3D [samples, timesteps, features]\n",
        "dataDF_train = dataDF_train.to_numpy()\n",
        "dataDF_train_labels = dataDF_train_labels.to_numpy()\n",
        "\n",
        "dataDF_train = dataDF_train.reshape((dataDF_train.shape[0], 1, dataDF_train.shape[1]))"
      ],
      "metadata": {
        "id": "X2LPzGO6AlEE"
      },
      "execution_count": 5,
      "outputs": []
    },
    {
      "cell_type": "code",
      "source": [
        "# split data into training and test\n",
        "X_train, X_valid, y_train, y_valid = train_test_split(dataDF_train, dataDF_train_labels, test_size=0.25, random_state=1)"
      ],
      "metadata": {
        "id": "akQBofsOAm8r"
      },
      "execution_count": 6,
      "outputs": []
    },
    {
      "cell_type": "code",
      "source": [
        "# use functional API of tensorflow to generate model\n",
        "model = tf.keras.Sequential()\n",
        "model.add(tf.keras.layers.LSTM(200))\n",
        "model.add(tf.keras.layers.Dense(1))"
      ],
      "metadata": {
        "id": "oMD25wptApI9"
      },
      "execution_count": 7,
      "outputs": []
    },
    {
      "cell_type": "code",
      "source": [
        "# use the functional API to compile our model with a Mean Squared Error as a loss function\n",
        "# and using the optimizer Nadam with a learning rate of 0.01\n",
        "model.compile(loss='mse',\n",
        "                metrics=[tf.keras.metrics.RootMeanSquaredError()],\n",
        "                optimizer=tf.keras.optimizers.Adam(0.01))"
      ],
      "metadata": {
        "id": "j9xKuc0cAuiK"
      },
      "execution_count": 10,
      "outputs": []
    },
    {
      "cell_type": "code",
      "source": [
        "# train our model using the functional API \n",
        "# we train for 200 epochs, use early stopping and a validation set\n",
        "history = model.fit(\n",
        "    X_train, y_train,\n",
        "    batch_size = 64,\n",
        "    epochs=100,\n",
        "    validation_data=(X_valid, y_valid),\n",
        "    verbose=1,\n",
        "    shuffle = False,\n",
        "    validation_split = 0.1\n",
        "    )"
      ],
      "metadata": {
        "colab": {
          "base_uri": "https://localhost:8080/"
        },
        "id": "FoCoRgSOAzax",
        "outputId": "c63c2af8-7165-4aab-dc8b-a5796893a7be"
      },
      "execution_count": 11,
      "outputs": [
        {
          "output_type": "stream",
          "name": "stdout",
          "text": [
            "Epoch 1/100\n",
            "193/193 [==============================] - 4s 9ms/step - loss: 2553.2007 - root_mean_squared_error: 50.5292 - val_loss: 2145.0930 - val_root_mean_squared_error: 46.3152\n",
            "Epoch 2/100\n",
            "193/193 [==============================] - 1s 5ms/step - loss: 2223.0063 - root_mean_squared_error: 47.1488 - val_loss: 1994.0183 - val_root_mean_squared_error: 44.6544\n",
            "Epoch 3/100\n",
            "193/193 [==============================] - 1s 5ms/step - loss: 2082.1938 - root_mean_squared_error: 45.6311 - val_loss: 1871.9967 - val_root_mean_squared_error: 43.2666\n",
            "Epoch 4/100\n",
            "193/193 [==============================] - 1s 5ms/step - loss: 1919.1737 - root_mean_squared_error: 43.8084 - val_loss: 1660.9009 - val_root_mean_squared_error: 40.7542\n",
            "Epoch 5/100\n",
            "193/193 [==============================] - 1s 5ms/step - loss: 1680.3157 - root_mean_squared_error: 40.9917 - val_loss: 1440.8312 - val_root_mean_squared_error: 37.9583\n",
            "Epoch 6/100\n",
            "193/193 [==============================] - 1s 6ms/step - loss: 1509.9365 - root_mean_squared_error: 38.8579 - val_loss: 1319.7006 - val_root_mean_squared_error: 36.3277\n",
            "Epoch 7/100\n",
            "193/193 [==============================] - 1s 5ms/step - loss: 1425.1956 - root_mean_squared_error: 37.7518 - val_loss: 1256.0453 - val_root_mean_squared_error: 35.4407\n",
            "Epoch 8/100\n",
            "193/193 [==============================] - 1s 6ms/step - loss: 1380.7655 - root_mean_squared_error: 37.1587 - val_loss: 1216.6777 - val_root_mean_squared_error: 34.8809\n",
            "Epoch 9/100\n",
            "193/193 [==============================] - 1s 6ms/step - loss: 1348.9565 - root_mean_squared_error: 36.7281 - val_loss: 1186.6442 - val_root_mean_squared_error: 34.4477\n",
            "Epoch 10/100\n",
            "193/193 [==============================] - 1s 5ms/step - loss: 1318.7448 - root_mean_squared_error: 36.3145 - val_loss: 1158.8658 - val_root_mean_squared_error: 34.0421\n",
            "Epoch 11/100\n",
            "193/193 [==============================] - 1s 5ms/step - loss: 1290.9415 - root_mean_squared_error: 35.9297 - val_loss: 1135.0537 - val_root_mean_squared_error: 33.6906\n",
            "Epoch 12/100\n",
            "193/193 [==============================] - 1s 5ms/step - loss: 1267.2086 - root_mean_squared_error: 35.5979 - val_loss: 1116.6022 - val_root_mean_squared_error: 33.4156\n",
            "Epoch 13/100\n",
            "193/193 [==============================] - 1s 6ms/step - loss: 1247.0327 - root_mean_squared_error: 35.3134 - val_loss: 1099.9280 - val_root_mean_squared_error: 33.1652\n",
            "Epoch 14/100\n",
            "193/193 [==============================] - 2s 8ms/step - loss: 1229.5515 - root_mean_squared_error: 35.0650 - val_loss: 1087.1908 - val_root_mean_squared_error: 32.9726\n",
            "Epoch 15/100\n",
            "193/193 [==============================] - 1s 6ms/step - loss: 1215.5244 - root_mean_squared_error: 34.8644 - val_loss: 1076.9130 - val_root_mean_squared_error: 32.8164\n",
            "Epoch 16/100\n",
            "193/193 [==============================] - 1s 6ms/step - loss: 1202.4025 - root_mean_squared_error: 34.6757 - val_loss: 1068.5303 - val_root_mean_squared_error: 32.6884\n",
            "Epoch 17/100\n",
            "193/193 [==============================] - 1s 5ms/step - loss: 1191.6125 - root_mean_squared_error: 34.5197 - val_loss: 1060.4448 - val_root_mean_squared_error: 32.5645\n",
            "Epoch 18/100\n",
            "193/193 [==============================] - 1s 6ms/step - loss: 1181.3574 - root_mean_squared_error: 34.3709 - val_loss: 1053.7429 - val_root_mean_squared_error: 32.4614\n",
            "Epoch 19/100\n",
            "193/193 [==============================] - 1s 5ms/step - loss: 1172.5756 - root_mean_squared_error: 34.2429 - val_loss: 1048.0680 - val_root_mean_squared_error: 32.3739\n",
            "Epoch 20/100\n",
            "193/193 [==============================] - 1s 5ms/step - loss: 1164.4592 - root_mean_squared_error: 34.1242 - val_loss: 1043.3453 - val_root_mean_squared_error: 32.3009\n",
            "Epoch 21/100\n",
            "193/193 [==============================] - 1s 5ms/step - loss: 1156.8842 - root_mean_squared_error: 34.0130 - val_loss: 1039.5140 - val_root_mean_squared_error: 32.2415\n",
            "Epoch 22/100\n",
            "193/193 [==============================] - 1s 6ms/step - loss: 1149.3088 - root_mean_squared_error: 33.9015 - val_loss: 1035.7545 - val_root_mean_squared_error: 32.1831\n",
            "Epoch 23/100\n",
            "193/193 [==============================] - 1s 5ms/step - loss: 1142.0686 - root_mean_squared_error: 33.7945 - val_loss: 1032.6525 - val_root_mean_squared_error: 32.1349\n",
            "Epoch 24/100\n",
            "193/193 [==============================] - 1s 6ms/step - loss: 1134.8702 - root_mean_squared_error: 33.6878 - val_loss: 1028.6403 - val_root_mean_squared_error: 32.0724\n",
            "Epoch 25/100\n",
            "193/193 [==============================] - 1s 5ms/step - loss: 1128.2672 - root_mean_squared_error: 33.5897 - val_loss: 1026.1196 - val_root_mean_squared_error: 32.0331\n",
            "Epoch 26/100\n",
            "193/193 [==============================] - 1s 6ms/step - loss: 1122.4470 - root_mean_squared_error: 33.5029 - val_loss: 1023.4387 - val_root_mean_squared_error: 31.9912\n",
            "Epoch 27/100\n",
            "193/193 [==============================] - 1s 5ms/step - loss: 1116.4691 - root_mean_squared_error: 33.4136 - val_loss: 1020.3543 - val_root_mean_squared_error: 31.9430\n",
            "Epoch 28/100\n",
            "193/193 [==============================] - 1s 6ms/step - loss: 1108.9292 - root_mean_squared_error: 33.3006 - val_loss: 1017.0770 - val_root_mean_squared_error: 31.8916\n",
            "Epoch 29/100\n",
            "193/193 [==============================] - 1s 6ms/step - loss: 1102.0002 - root_mean_squared_error: 33.1964 - val_loss: 1013.8621 - val_root_mean_squared_error: 31.8412\n",
            "Epoch 30/100\n",
            "193/193 [==============================] - 1s 6ms/step - loss: 1096.1807 - root_mean_squared_error: 33.1086 - val_loss: 1011.2679 - val_root_mean_squared_error: 31.8004\n",
            "Epoch 31/100\n",
            "193/193 [==============================] - 1s 5ms/step - loss: 1089.7961 - root_mean_squared_error: 33.0121 - val_loss: 1009.1215 - val_root_mean_squared_error: 31.7667\n",
            "Epoch 32/100\n",
            "193/193 [==============================] - 1s 6ms/step - loss: 1084.3357 - root_mean_squared_error: 32.9293 - val_loss: 1007.5721 - val_root_mean_squared_error: 31.7423\n",
            "Epoch 33/100\n",
            "193/193 [==============================] - 1s 5ms/step - loss: 1078.5112 - root_mean_squared_error: 32.8407 - val_loss: 1007.2133 - val_root_mean_squared_error: 31.7366\n",
            "Epoch 34/100\n",
            "193/193 [==============================] - 1s 6ms/step - loss: 1072.9279 - root_mean_squared_error: 32.7556 - val_loss: 1002.8076 - val_root_mean_squared_error: 31.6671\n",
            "Epoch 35/100\n",
            "193/193 [==============================] - 1s 6ms/step - loss: 1066.0520 - root_mean_squared_error: 32.6505 - val_loss: 1001.5956 - val_root_mean_squared_error: 31.6480\n",
            "Epoch 36/100\n",
            "193/193 [==============================] - 1s 6ms/step - loss: 1059.8760 - root_mean_squared_error: 32.5557 - val_loss: 1000.0403 - val_root_mean_squared_error: 31.6234\n",
            "Epoch 37/100\n",
            "193/193 [==============================] - 1s 6ms/step - loss: 1054.1844 - root_mean_squared_error: 32.4682 - val_loss: 996.8083 - val_root_mean_squared_error: 31.5723\n",
            "Epoch 38/100\n",
            "193/193 [==============================] - 1s 6ms/step - loss: 1047.4238 - root_mean_squared_error: 32.3639 - val_loss: 994.2472 - val_root_mean_squared_error: 31.5317\n",
            "Epoch 39/100\n",
            "193/193 [==============================] - 1s 5ms/step - loss: 1040.4225 - root_mean_squared_error: 32.2556 - val_loss: 992.6312 - val_root_mean_squared_error: 31.5061\n",
            "Epoch 40/100\n",
            "193/193 [==============================] - 1s 6ms/step - loss: 1034.2416 - root_mean_squared_error: 32.1596 - val_loss: 989.7355 - val_root_mean_squared_error: 31.4601\n",
            "Epoch 41/100\n",
            "193/193 [==============================] - 1s 6ms/step - loss: 1028.3110 - root_mean_squared_error: 32.0673 - val_loss: 988.0026 - val_root_mean_squared_error: 31.4325\n",
            "Epoch 42/100\n",
            "193/193 [==============================] - 1s 6ms/step - loss: 1021.9711 - root_mean_squared_error: 31.9683 - val_loss: 985.3591 - val_root_mean_squared_error: 31.3904\n",
            "Epoch 43/100\n",
            "193/193 [==============================] - 1s 5ms/step - loss: 1015.7632 - root_mean_squared_error: 31.8710 - val_loss: 983.7531 - val_root_mean_squared_error: 31.3648\n",
            "Epoch 44/100\n",
            "193/193 [==============================] - 1s 6ms/step - loss: 1009.4062 - root_mean_squared_error: 31.7712 - val_loss: 981.2477 - val_root_mean_squared_error: 31.3249\n",
            "Epoch 45/100\n",
            "193/193 [==============================] - 1s 6ms/step - loss: 1002.9553 - root_mean_squared_error: 31.6695 - val_loss: 978.8723 - val_root_mean_squared_error: 31.2869\n",
            "Epoch 46/100\n",
            "193/193 [==============================] - 1s 6ms/step - loss: 996.8210 - root_mean_squared_error: 31.5725 - val_loss: 976.4819 - val_root_mean_squared_error: 31.2487\n",
            "Epoch 47/100\n",
            "193/193 [==============================] - 1s 5ms/step - loss: 990.2906 - root_mean_squared_error: 31.4689 - val_loss: 974.9429 - val_root_mean_squared_error: 31.2241\n",
            "Epoch 48/100\n",
            "193/193 [==============================] - 1s 5ms/step - loss: 984.8070 - root_mean_squared_error: 31.3816 - val_loss: 974.3963 - val_root_mean_squared_error: 31.2153\n",
            "Epoch 49/100\n",
            "193/193 [==============================] - 1s 6ms/step - loss: 978.2701 - root_mean_squared_error: 31.2773 - val_loss: 972.3976 - val_root_mean_squared_error: 31.1833\n",
            "Epoch 50/100\n",
            "193/193 [==============================] - 1s 6ms/step - loss: 973.4724 - root_mean_squared_error: 31.2005 - val_loss: 970.8018 - val_root_mean_squared_error: 31.1577\n",
            "Epoch 51/100\n",
            "193/193 [==============================] - 1s 6ms/step - loss: 968.4134 - root_mean_squared_error: 31.1193 - val_loss: 971.0762 - val_root_mean_squared_error: 31.1621\n",
            "Epoch 52/100\n",
            "193/193 [==============================] - 1s 5ms/step - loss: 962.8640 - root_mean_squared_error: 31.0301 - val_loss: 968.7744 - val_root_mean_squared_error: 31.1251\n",
            "Epoch 53/100\n",
            "193/193 [==============================] - 1s 6ms/step - loss: 956.9905 - root_mean_squared_error: 30.9353 - val_loss: 965.4190 - val_root_mean_squared_error: 31.0712\n",
            "Epoch 54/100\n",
            "193/193 [==============================] - 1s 7ms/step - loss: 950.1815 - root_mean_squared_error: 30.8250 - val_loss: 964.7491 - val_root_mean_squared_error: 31.0604\n",
            "Epoch 55/100\n",
            "193/193 [==============================] - 1s 6ms/step - loss: 943.9892 - root_mean_squared_error: 30.7244 - val_loss: 963.1058 - val_root_mean_squared_error: 31.0339\n",
            "Epoch 56/100\n",
            "193/193 [==============================] - 1s 6ms/step - loss: 938.7041 - root_mean_squared_error: 30.6383 - val_loss: 963.9968 - val_root_mean_squared_error: 31.0483\n",
            "Epoch 57/100\n",
            "193/193 [==============================] - 1s 6ms/step - loss: 932.3882 - root_mean_squared_error: 30.5350 - val_loss: 962.2834 - val_root_mean_squared_error: 31.0207\n",
            "Epoch 58/100\n",
            "193/193 [==============================] - 1s 6ms/step - loss: 926.3889 - root_mean_squared_error: 30.4366 - val_loss: 961.7489 - val_root_mean_squared_error: 31.0121\n",
            "Epoch 59/100\n",
            "193/193 [==============================] - 1s 6ms/step - loss: 920.5154 - root_mean_squared_error: 30.3400 - val_loss: 961.0743 - val_root_mean_squared_error: 31.0012\n",
            "Epoch 60/100\n",
            "193/193 [==============================] - 1s 6ms/step - loss: 914.5796 - root_mean_squared_error: 30.2420 - val_loss: 960.3572 - val_root_mean_squared_error: 30.9896\n",
            "Epoch 61/100\n",
            "193/193 [==============================] - 1s 6ms/step - loss: 908.8582 - root_mean_squared_error: 30.1473 - val_loss: 960.3752 - val_root_mean_squared_error: 30.9899\n",
            "Epoch 62/100\n",
            "193/193 [==============================] - 1s 6ms/step - loss: 903.1299 - root_mean_squared_error: 30.0521 - val_loss: 960.4459 - val_root_mean_squared_error: 30.9911\n",
            "Epoch 63/100\n",
            "193/193 [==============================] - 1s 6ms/step - loss: 898.0308 - root_mean_squared_error: 29.9672 - val_loss: 960.2546 - val_root_mean_squared_error: 30.9880\n",
            "Epoch 64/100\n",
            "193/193 [==============================] - 1s 6ms/step - loss: 891.9863 - root_mean_squared_error: 29.8661 - val_loss: 960.7995 - val_root_mean_squared_error: 30.9968\n",
            "Epoch 65/100\n",
            "193/193 [==============================] - 1s 6ms/step - loss: 886.0679 - root_mean_squared_error: 29.7669 - val_loss: 962.5096 - val_root_mean_squared_error: 31.0243\n",
            "Epoch 66/100\n",
            "193/193 [==============================] - 1s 6ms/step - loss: 880.3124 - root_mean_squared_error: 29.6701 - val_loss: 962.6638 - val_root_mean_squared_error: 31.0268\n",
            "Epoch 67/100\n",
            "193/193 [==============================] - 1s 6ms/step - loss: 874.5666 - root_mean_squared_error: 29.5731 - val_loss: 962.7298 - val_root_mean_squared_error: 31.0279\n",
            "Epoch 68/100\n",
            "193/193 [==============================] - 1s 6ms/step - loss: 869.0957 - root_mean_squared_error: 29.4804 - val_loss: 964.0259 - val_root_mean_squared_error: 31.0488\n",
            "Epoch 69/100\n",
            "193/193 [==============================] - 1s 6ms/step - loss: 863.4498 - root_mean_squared_error: 29.3845 - val_loss: 965.6469 - val_root_mean_squared_error: 31.0749\n",
            "Epoch 70/100\n",
            "193/193 [==============================] - 1s 6ms/step - loss: 858.5131 - root_mean_squared_error: 29.3004 - val_loss: 964.5712 - val_root_mean_squared_error: 31.0575\n",
            "Epoch 71/100\n",
            "193/193 [==============================] - 1s 6ms/step - loss: 852.9115 - root_mean_squared_error: 29.2046 - val_loss: 965.9185 - val_root_mean_squared_error: 31.0792\n",
            "Epoch 72/100\n",
            "193/193 [==============================] - 1s 6ms/step - loss: 847.0312 - root_mean_squared_error: 29.1038 - val_loss: 964.4354 - val_root_mean_squared_error: 31.0554\n",
            "Epoch 73/100\n",
            "193/193 [==============================] - 1s 6ms/step - loss: 840.8750 - root_mean_squared_error: 28.9978 - val_loss: 963.7095 - val_root_mean_squared_error: 31.0437\n",
            "Epoch 74/100\n",
            "193/193 [==============================] - 1s 6ms/step - loss: 836.3660 - root_mean_squared_error: 28.9200 - val_loss: 962.3036 - val_root_mean_squared_error: 31.0210\n",
            "Epoch 75/100\n",
            "193/193 [==============================] - 1s 6ms/step - loss: 830.4585 - root_mean_squared_error: 28.8177 - val_loss: 958.6263 - val_root_mean_squared_error: 30.9617\n",
            "Epoch 76/100\n",
            "193/193 [==============================] - 1s 7ms/step - loss: 826.1714 - root_mean_squared_error: 28.7432 - val_loss: 962.8126 - val_root_mean_squared_error: 31.0292\n",
            "Epoch 77/100\n",
            "193/193 [==============================] - 1s 6ms/step - loss: 820.0284 - root_mean_squared_error: 28.6361 - val_loss: 957.6505 - val_root_mean_squared_error: 30.9459\n",
            "Epoch 78/100\n",
            "193/193 [==============================] - 1s 6ms/step - loss: 814.8297 - root_mean_squared_error: 28.5452 - val_loss: 955.7610 - val_root_mean_squared_error: 30.9154\n",
            "Epoch 79/100\n",
            "193/193 [==============================] - 1s 6ms/step - loss: 808.5859 - root_mean_squared_error: 28.4356 - val_loss: 953.6772 - val_root_mean_squared_error: 30.8817\n",
            "Epoch 80/100\n",
            "193/193 [==============================] - 1s 6ms/step - loss: 803.5375 - root_mean_squared_error: 28.3467 - val_loss: 951.1133 - val_root_mean_squared_error: 30.8401\n",
            "Epoch 81/100\n",
            "193/193 [==============================] - 1s 6ms/step - loss: 797.5827 - root_mean_squared_error: 28.2415 - val_loss: 950.2608 - val_root_mean_squared_error: 30.8263\n",
            "Epoch 82/100\n",
            "193/193 [==============================] - 1s 6ms/step - loss: 793.0917 - root_mean_squared_error: 28.1619 - val_loss: 951.7059 - val_root_mean_squared_error: 30.8497\n",
            "Epoch 83/100\n",
            "193/193 [==============================] - 1s 6ms/step - loss: 788.5480 - root_mean_squared_error: 28.0811 - val_loss: 948.1757 - val_root_mean_squared_error: 30.7925\n",
            "Epoch 84/100\n",
            "193/193 [==============================] - 1s 6ms/step - loss: 781.6582 - root_mean_squared_error: 27.9582 - val_loss: 946.5551 - val_root_mean_squared_error: 30.7661\n",
            "Epoch 85/100\n",
            "193/193 [==============================] - 1s 6ms/step - loss: 777.6348 - root_mean_squared_error: 27.8861 - val_loss: 944.7397 - val_root_mean_squared_error: 30.7366\n",
            "Epoch 86/100\n",
            "193/193 [==============================] - 1s 6ms/step - loss: 771.8104 - root_mean_squared_error: 27.7815 - val_loss: 946.9172 - val_root_mean_squared_error: 30.7720\n",
            "Epoch 87/100\n",
            "193/193 [==============================] - 1s 7ms/step - loss: 766.2870 - root_mean_squared_error: 27.6819 - val_loss: 948.3935 - val_root_mean_squared_error: 30.7960\n",
            "Epoch 88/100\n",
            "193/193 [==============================] - 2s 10ms/step - loss: 761.8891 - root_mean_squared_error: 27.6023 - val_loss: 941.9606 - val_root_mean_squared_error: 30.6914\n",
            "Epoch 89/100\n",
            "193/193 [==============================] - 1s 6ms/step - loss: 756.2820 - root_mean_squared_error: 27.5006 - val_loss: 946.0056 - val_root_mean_squared_error: 30.7572\n",
            "Epoch 90/100\n",
            "193/193 [==============================] - 1s 6ms/step - loss: 752.0500 - root_mean_squared_error: 27.4235 - val_loss: 940.9473 - val_root_mean_squared_error: 30.6749\n",
            "Epoch 91/100\n",
            "193/193 [==============================] - 1s 6ms/step - loss: 747.8637 - root_mean_squared_error: 27.3471 - val_loss: 940.7280 - val_root_mean_squared_error: 30.6713\n",
            "Epoch 92/100\n",
            "193/193 [==============================] - 1s 6ms/step - loss: 743.7075 - root_mean_squared_error: 27.2710 - val_loss: 939.6310 - val_root_mean_squared_error: 30.6534\n",
            "Epoch 93/100\n",
            "193/193 [==============================] - 1s 6ms/step - loss: 740.9046 - root_mean_squared_error: 27.2196 - val_loss: 936.9829 - val_root_mean_squared_error: 30.6102\n",
            "Epoch 94/100\n",
            "193/193 [==============================] - 1s 6ms/step - loss: 734.5095 - root_mean_squared_error: 27.1018 - val_loss: 935.4542 - val_root_mean_squared_error: 30.5852\n",
            "Epoch 95/100\n",
            "193/193 [==============================] - 1s 6ms/step - loss: 729.2424 - root_mean_squared_error: 27.0045 - val_loss: 935.4844 - val_root_mean_squared_error: 30.5857\n",
            "Epoch 96/100\n",
            "193/193 [==============================] - 1s 6ms/step - loss: 723.9743 - root_mean_squared_error: 26.9068 - val_loss: 933.8343 - val_root_mean_squared_error: 30.5587\n",
            "Epoch 97/100\n",
            "193/193 [==============================] - 1s 6ms/step - loss: 718.9396 - root_mean_squared_error: 26.8130 - val_loss: 932.7863 - val_root_mean_squared_error: 30.5416\n",
            "Epoch 98/100\n",
            "193/193 [==============================] - 1s 6ms/step - loss: 713.7114 - root_mean_squared_error: 26.7154 - val_loss: 931.7638 - val_root_mean_squared_error: 30.5248\n",
            "Epoch 99/100\n",
            "193/193 [==============================] - 1s 6ms/step - loss: 708.6810 - root_mean_squared_error: 26.6211 - val_loss: 931.1533 - val_root_mean_squared_error: 30.5148\n",
            "Epoch 100/100\n",
            "193/193 [==============================] - 1s 6ms/step - loss: 704.0881 - root_mean_squared_error: 26.5347 - val_loss: 932.3051 - val_root_mean_squared_error: 30.5337\n"
          ]
        }
      ]
    },
    {
      "cell_type": "code",
      "source": [
        "# function to plot the losses of our model\n",
        "def plot_loss(history):\n",
        "  plt.plot(np.sqrt(history.history['loss']), label='loss')\n",
        "  plt.plot(np.sqrt(history.history['val_loss']), label='val_loss')\n",
        "  plt.title('Basic LSTM - Data not shuffled - No Location ')\n",
        "  plt.xlabel('Epoch')\n",
        "  plt.ylabel('Error')\n",
        "  plt.ylim(25,60)\n",
        "  plt.legend()\n",
        "  plt.grid(True)"
      ],
      "metadata": {
        "id": "nsGeWsOLA3gj"
      },
      "execution_count": 14,
      "outputs": []
    },
    {
      "cell_type": "code",
      "source": [
        "plot_loss(history)"
      ],
      "metadata": {
        "colab": {
          "base_uri": "https://localhost:8080/",
          "height": 295
        },
        "id": "nZpAOOxyA5wn",
        "outputId": "4a131596-d9e1-48d9-89ae-ac32b8e33981"
      },
      "execution_count": 15,
      "outputs": [
        {
          "output_type": "display_data",
          "data": {
            "text/plain": [
              "<Figure size 432x288 with 1 Axes>"
            ],
            "image/png": "[encoded data removed]"
          },
          "metadata": {
            "needs_background": "light"
          }
        }
      ]
    }
  ]
}