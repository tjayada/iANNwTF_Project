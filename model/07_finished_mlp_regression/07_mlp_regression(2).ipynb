{
  "nbformat": 4,
  "nbformat_minor": 0,
  "metadata": {
    "colab": {
      "name": "07_mlp_regression(2).ipynb",
      "provenance": [],
      "collapsed_sections": []
    },
    "kernelspec": {
      "name": "python3",
      "display_name": "Python 3"
    },
    "language_info": {
      "name": "python"
    }
  },
  "cells": [
    {
      "cell_type": "code",
      "execution_count": 1,
      "metadata": {
        "id": "4RfjPmhANpuH"
      },
      "outputs": [],
      "source": [
        "import pandas as pd\n",
        "import matplotlib.pyplot as plt\n",
        "import tensorflow as tf\n",
        "import numpy as np\n",
        "from sklearn.model_selection import train_test_split"
      ]
    },
    {
      "cell_type": "code",
      "source": [
        "# Load Train data from our github repo\n",
        "url_train = 'https://raw.githubusercontent.com/tjayada/iANNwTF_Project/main/data/cleaned%20data%20(2)/data_with_mean_NaN_train.csv'\n",
        "dataDF_train = pd.read_csv(url_train)\n",
        "\n",
        "# Load Train label data from our github repo\n",
        "url_train_labels = 'https://raw.githubusercontent.com/tjayada/iANNwTF_Project/main/data/cleaned%20data%20(2)/data_with_mean_NaN_train_labels.csv'\n",
        "dataDF_train_labels = pd.read_csv(url_train_labels)"
      ],
      "metadata": {
        "id": "4GYrp8HqNvn3"
      },
      "execution_count": 2,
      "outputs": []
    },
    {
      "cell_type": "code",
      "source": [
        "# drop indices \n",
        "dataDF_train = dataDF_train.drop(\"Unnamed: 0\", axis = 1)\n",
        "dataDF_train_labels = dataDF_train_labels.drop(\"Unnamed: 0\", axis = 1)"
      ],
      "metadata": {
        "id": "UscW-BXMN0Uj"
      },
      "execution_count": 3,
      "outputs": []
    },
    {
      "cell_type": "code",
      "source": [
        "# split data into training and test\n",
        "X_train, X_valid, y_train, y_valid = train_test_split(dataDF_train, dataDF_train_labels, test_size=0.25, random_state=1)"
      ],
      "metadata": {
        "id": "_hnzFqfGN29V"
      },
      "execution_count": 4,
      "outputs": []
    },
    {
      "cell_type": "code",
      "source": [
        "# create tf dataset out of the panda dataframes\n",
        "X_train = tf.data.Dataset.from_tensor_slices(X_train)\n",
        "y_train = tf.data.Dataset.from_tensor_slices(y_train)\n",
        "\n",
        "X_valid = tf.data.Dataset.from_tensor_slices(X_valid)\n",
        "y_valid = tf.data.Dataset.from_tensor_slices(y_valid)"
      ],
      "metadata": {
        "id": "N93Ckn5COAds"
      },
      "execution_count": 5,
      "outputs": []
    },
    {
      "cell_type": "code",
      "source": [
        "# combine data and target labels\n",
        "train_dataset = tf.data.Dataset.zip((X_train, y_train))\n",
        "test_dataset = tf.data.Dataset.zip((X_valid, y_valid))"
      ],
      "metadata": {
        "id": "v_ac0Kq2ODnz"
      },
      "execution_count": 6,
      "outputs": []
    },
    {
      "cell_type": "code",
      "source": [
        "# shuffle, batch and prefetch data\n",
        "train_dataset = train_dataset.shuffle(1000).batch(64).prefetch(64)\n",
        "test_dataset = test_dataset.shuffle(1000).batch(64).prefetch(64)"
      ],
      "metadata": {
        "id": "rXqOAq4cOJGy"
      },
      "execution_count": 7,
      "outputs": []
    },
    {
      "cell_type": "code",
      "source": [
        "number_of_features = dataDF_train.shape[1]\n",
        "# create mlp regression model\n",
        "class mlp_regression_model(tf.keras.Model):\n",
        "\n",
        "    def __init__(self):\n",
        "        super(mlp_regression_model, self).__init__()\n",
        "        self.dense_layer1 = SimpleDense(number_of_features, activation = tf.keras.activations.linear)\n",
        "        self.dense_layer2 = SimpleDense(160, activation = tf.keras.activations.relu)\n",
        "        self.dense_layer3 = SimpleDense(320, activation = tf.keras.activations.relu)\n",
        "        self.dense_layer4 = SimpleDense(160, activation = tf.keras.activations.relu)\n",
        "        self.out = SimpleDense(1, activation = tf.keras.activations.linear)\n",
        "        \n",
        "\n",
        "    def call(self, inputs):\n",
        "        x = self.dense_layer1(inputs)\n",
        "        x = self.dense_layer2(x)\n",
        "        x = self.dense_layer3(x)\n",
        "        x = self.dense_layer4(x)\n",
        "        out = self.out(x)\n",
        "        return out\n",
        "\n",
        "class SimpleDense(tf.keras.layers.Layer):\n",
        "\n",
        "    def __init__(self, units, activation):\n",
        "        super(SimpleDense, self).__init__()\n",
        "        self.units = units\n",
        "        self.activation = activation\n",
        "\n",
        "    def build(self, input_shape):\n",
        "        self.w = self.add_weight(shape=(input_shape[-1], self.units),\n",
        "                               initializer='random_normal',\n",
        "                               trainable=True)\n",
        "        self.b = self.add_weight(shape=(self.units,),\n",
        "                               initializer='random_normal',\n",
        "                               trainable=True)\n",
        "\n",
        "    def call(self, inputs):\n",
        "        x = tf.matmul(inputs, self.w) + self.b\n",
        "        x = self.activation(x)\n",
        "        return x"
      ],
      "metadata": {
        "id": "RwW-fnWvOLep"
      },
      "execution_count": 8,
      "outputs": []
    },
    {
      "cell_type": "code",
      "source": [
        "def train_step(model, input, target, loss_function, optimizer):\n",
        "  with tf.GradientTape() as tape:\n",
        "    prediction = model(input)\n",
        "    loss = loss_function(target, prediction)\n",
        "    gradients = tape.gradient(loss, model.trainable_variables)\n",
        "  optimizer.apply_gradients(zip(gradients, model.trainable_variables))\n",
        "  return loss\n",
        "\n",
        "def test(model, test_data, loss_function):\n",
        "  test_accuracy_aggregator = []\n",
        "  test_loss_aggregator = []\n",
        "\n",
        "  for (input, target) in test_data:\n",
        "    prediction = model(input)\n",
        "    sample_test_loss = loss_function(target, prediction)\n",
        "    sample_test_accuracy =  np.round(target, 0) == np.round(prediction, 0)\n",
        "    sample_test_accuracy = np.mean(sample_test_accuracy)\n",
        "    test_loss_aggregator.append(sample_test_loss.numpy())\n",
        "    test_accuracy_aggregator.append(sample_test_accuracy)\n",
        "\n",
        "  test_loss = tf.reduce_mean(test_loss_aggregator)\n",
        "  test_accuracy = tf.reduce_mean(test_accuracy_aggregator)\n",
        "\n",
        "  return test_loss, test_accuracy"
      ],
      "metadata": {
        "id": "Kqp2LOZjOQip"
      },
      "execution_count": 9,
      "outputs": []
    },
    {
      "cell_type": "code",
      "source": [
        "tf.keras.backend.clear_session()\n",
        "\n",
        "### Hyperparameters\n",
        "num_epochs = 100\n",
        "learning_rate = 0.01\n",
        "\n",
        "# Initialize the model.\n",
        "model = mlp_regression_model()\n",
        "# Initialize the loss: mean squared error\n",
        "mse_loss = tf.keras.losses.MeanSquaredError()\n",
        "# Initialize the optimizer: Adam with default parameters\n",
        "optimizer = tf.keras.optimizers.Adam(learning_rate)\n",
        "\n",
        "# Initialize lists for later visualization.\n",
        "train_losses = []\n",
        "\n",
        "test_losses = []\n",
        "test_accuracies = []\n",
        "\n",
        "#testing once before we begin\n",
        "test_loss, test_accuracy = test(model, test_dataset, mse_loss)\n",
        "test_losses.append(test_loss)\n",
        "test_accuracies.append(test_accuracy)\n",
        "\n",
        "#check how model performs on train data once before we begin\n",
        "train_loss, _ = test(model, train_dataset, mse_loss)\n",
        "train_losses.append(train_loss)\n",
        "\n",
        "# We train for num_epochs epochs.\n",
        "for epoch in range(num_epochs):\n",
        "    interesting_epochs = np.arange(9,200,10)\n",
        "    if epoch == 0 or epoch in interesting_epochs:\n",
        "      rmse = np.sqrt(test_losses[-1])\n",
        "      rmse = np.format_float_positional(rmse, 3)\n",
        "      print(f'Epoch: {str(epoch+1)} has a RMSE of {rmse}')\n",
        "\n",
        "    #training (and checking in with training)\n",
        "    epoch_loss_agg = []\n",
        "    for input,target in train_dataset:\n",
        "        train_loss = train_step(model, input, target, mse_loss, optimizer)\n",
        "        epoch_loss_agg.append(train_loss)\n",
        "\n",
        "    #track training loss\n",
        "    train_losses.append(tf.reduce_mean(epoch_loss_agg))\n",
        "\n",
        "    #testing, so we can track accuracy and test loss\n",
        "    test_loss, test_accuracy = test(model, test_dataset, mse_loss)\n",
        "    test_losses.append(test_loss)\n",
        "    test_accuracies.append(test_accuracy)"
      ],
      "metadata": {
        "colab": {
          "base_uri": "https://localhost:8080/"
        },
        "id": "c2i70rc5OTgJ",
        "outputId": "3a6e4bea-1ddc-4cbe-afbd-131581bcfb30"
      },
      "execution_count": 10,
      "outputs": [
        {
          "output_type": "stream",
          "name": "stdout",
          "text": [
            "Epoch: 1 has a RMSE of 77.08\n",
            "Epoch: 10 has a RMSE of 37.638\n",
            "Epoch: 20 has a RMSE of 35.395\n",
            "Epoch: 30 has a RMSE of 35.197\n",
            "Epoch: 40 has a RMSE of 33.8\n",
            "Epoch: 50 has a RMSE of 33.662\n",
            "Epoch: 60 has a RMSE of 33.525\n",
            "Epoch: 70 has a RMSE of 32.552\n",
            "Epoch: 80 has a RMSE of 33.631\n",
            "Epoch: 90 has a RMSE of 33.237\n",
            "Epoch: 100 has a RMSE of 33.209\n"
          ]
        }
      ]
    },
    {
      "cell_type": "code",
      "source": [
        "# Visualize loss for training and test data.\n",
        "plt.figure()\n",
        "line1, = plt.plot(np.sqrt(train_losses))\n",
        "line2, = plt.plot(np.sqrt(test_losses))\n",
        "plt.xlabel(\"Training steps\")\n",
        "plt.ylabel(\"Loss\")\n",
        "plt.legend((line1,line2),(\"training\",\"test\"))\n",
        "plt.show()"
      ],
      "metadata": {
        "colab": {
          "base_uri": "https://localhost:8080/",
          "height": 279
        },
        "id": "We7eNLj5QiGm",
        "outputId": "c2cbefd8-0c13-4957-d970-3a625417c31b"
      },
      "execution_count": 11,
      "outputs": [
        {
          "output_type": "display_data",
          "data": {
            "text/plain": [
              "<Figure size 432x288 with 1 Axes>"
            ],
            "image/png": "[encoded data removed]"
          },
          "metadata": {
            "needs_background": "light"
          }
        }
      ]
    }
  ]
}