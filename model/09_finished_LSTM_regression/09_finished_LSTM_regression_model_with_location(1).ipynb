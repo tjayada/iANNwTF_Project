{
  "nbformat": 4,
  "nbformat_minor": 0,
  "metadata": {
    "colab": {
      "name": "09_finished_LSTM_regression_model_with_location(1).ipynb",
      "provenance": [],
      "collapsed_sections": []
    },
    "kernelspec": {
      "name": "python3",
      "display_name": "Python 3"
    },
    "language_info": {
      "name": "python"
    }
  },
  "cells": [
    {
      "cell_type": "code",
      "execution_count": 1,
      "metadata": {
        "id": "XkDLdfHqq-wm"
      },
      "outputs": [],
      "source": [
        "import pandas as pd\n",
        "import matplotlib.pyplot as plt\n",
        "import tensorflow as tf\n",
        "import numpy as np\n",
        "from sklearn.model_selection import train_test_split"
      ]
    },
    {
      "cell_type": "code",
      "source": [
        "# Load Train data from our github repo\n",
        "url_train = 'https://raw.githubusercontent.com/tjayada/iANNwTF_Project/main/data/cleaned%20data%20LSTM%20(1)/LSTM_data_without_columns_train.csv'\n",
        "dataDF_train = pd.read_csv(url_train)\n",
        "\n",
        "# Load Train label data from our github repo\n",
        "url_train_labels = 'https://raw.githubusercontent.com/tjayada/iANNwTF_Project/main/data/cleaned%20data%20LSTM%20(1)/LSTM_data_without_columns_train_labels.csv'\n",
        "dataDF_train_labels = pd.read_csv(url_train_labels)"
      ],
      "metadata": {
        "id": "CdZ9bjpsrJkL"
      },
      "execution_count": 2,
      "outputs": []
    },
    {
      "cell_type": "code",
      "source": [
        "# drop indices \n",
        "dataDF_train = dataDF_train.drop(\"Unnamed: 0\", axis = 1)\n",
        "dataDF_train_labels = dataDF_train_labels.drop(\"Unnamed: 0\", axis = 1)"
      ],
      "metadata": {
        "id": "VmYyCzKnrjNm"
      },
      "execution_count": 3,
      "outputs": []
    },
    {
      "cell_type": "code",
      "source": [
        "# reshape input to be 3D [samples, timesteps, features]\n",
        "dataDF_train = dataDF_train.to_numpy()\n",
        "dataDF_train_labels = dataDF_train_labels.to_numpy()\n",
        "\n",
        "dataDF_train = dataDF_train.reshape((dataDF_train.shape[0], 1, dataDF_train.shape[1]))"
      ],
      "metadata": {
        "id": "t21zulmqrkPT"
      },
      "execution_count": 4,
      "outputs": []
    },
    {
      "cell_type": "code",
      "source": [
        "# split data into training and test\n",
        "X_train, X_valid, y_train, y_valid = train_test_split(dataDF_train, dataDF_train_labels, test_size=0.25, shuffle=False)"
      ],
      "metadata": {
        "id": "EDg683mrrnga"
      },
      "execution_count": 5,
      "outputs": []
    },
    {
      "cell_type": "code",
      "source": [
        "# use functional API of tensorflow to generate model\n",
        "# also using dropout and regularizers to prevent overfitting\n",
        "model = tf.keras.Sequential()\n",
        "model.add(tf.keras.layers.LSTM(200, kernel_regularizer=tf.keras.regularizers.l2(0.001)))\n",
        "model.add(tf.keras.layers.Dropout(0.5))\n",
        "model.add(tf.keras.layers.Dense(1))"
      ],
      "metadata": {
        "id": "BP1RcFkur5GQ"
      },
      "execution_count": 6,
      "outputs": []
    },
    {
      "cell_type": "code",
      "source": [
        "# use the functional API to compile our model with a Mean Squared Error as a loss function\n",
        "# and using the optimizer Nadam with a learning rate of 0.01\n",
        "model.compile(loss='mse',\n",
        "                metrics=[tf.keras.metrics.RootMeanSquaredError()],\n",
        "                optimizer=tf.keras.optimizers.Nadam(0.01))"
      ],
      "metadata": {
        "id": "Iyjqew1Kr79h"
      },
      "execution_count": 7,
      "outputs": []
    },
    {
      "cell_type": "code",
      "source": [
        "# implement a early stopping function, that stops if the model doesnt improve for 20 epochs\n",
        "# also saves the \"best\" model version of this period, instead of using the last one, that might be worse than\n",
        "# the epochs before\n",
        "callback = [tf.keras.callbacks.EarlyStopping(monitor='val_loss', patience=20),\n",
        "             tf.keras.callbacks.ModelCheckpoint(filepath='best_model.h5', monitor='val_loss', save_best_only=True)]"
      ],
      "metadata": {
        "id": "sZ17BdAdr-o7"
      },
      "execution_count": 8,
      "outputs": []
    },
    {
      "cell_type": "code",
      "source": [
        "# train our model using the functional API \n",
        "# we train for 200 epochs, use early stopping and a validation set\n",
        "history = model.fit(\n",
        "    X_train, y_train,\n",
        "    batch_size = 64,\n",
        "    epochs=200,\n",
        "    callbacks = [callback],\n",
        "    validation_data=(X_valid, y_valid),\n",
        "    verbose=1,\n",
        "    shuffle = False,\n",
        "    validation_split = 0.1\n",
        "    )"
      ],
      "metadata": {
        "colab": {
          "base_uri": "https://localhost:8080/"
        },
        "id": "siiCvLcFsC4K",
        "outputId": "4d9cc771-81c8-40b1-fa6b-e9daff8da711"
      },
      "execution_count": 9,
      "outputs": [
        {
          "output_type": "stream",
          "name": "stdout",
          "text": [
            "Epoch 1/200\n",
            "193/193 [==============================] - 15s 22ms/step - loss: 2436.5247 - root_mean_squared_error: 49.3548 - val_loss: 2458.0420 - val_root_mean_squared_error: 49.5723\n",
            "Epoch 2/200\n",
            "193/193 [==============================] - 2s 12ms/step - loss: 2215.3882 - root_mean_squared_error: 47.0612 - val_loss: 2453.3835 - val_root_mean_squared_error: 49.5257\n",
            "Epoch 3/200\n",
            "193/193 [==============================] - 2s 9ms/step - loss: 2214.9907 - root_mean_squared_error: 47.0558 - val_loss: 2452.2620 - val_root_mean_squared_error: 49.5134\n",
            "Epoch 4/200\n",
            "193/193 [==============================] - 2s 9ms/step - loss: 2216.4194 - root_mean_squared_error: 47.0687 - val_loss: 2452.9070 - val_root_mean_squared_error: 49.5179\n",
            "Epoch 5/200\n",
            "193/193 [==============================] - 2s 9ms/step - loss: 2210.4456 - root_mean_squared_error: 47.0022 - val_loss: 2454.9304 - val_root_mean_squared_error: 49.5356\n",
            "Epoch 6/200\n",
            "193/193 [==============================] - 2s 9ms/step - loss: 2206.1841 - root_mean_squared_error: 46.9539 - val_loss: 2453.5728 - val_root_mean_squared_error: 49.5192\n",
            "Epoch 7/200\n",
            "193/193 [==============================] - 2s 9ms/step - loss: 2206.9062 - root_mean_squared_error: 46.9587 - val_loss: 2459.3867 - val_root_mean_squared_error: 49.5753\n",
            "Epoch 8/200\n",
            "193/193 [==============================] - 2s 9ms/step - loss: 2205.0037 - root_mean_squared_error: 46.9350 - val_loss: 2463.1719 - val_root_mean_squared_error: 49.6102\n",
            "Epoch 9/200\n",
            "193/193 [==============================] - 2s 8ms/step - loss: 2211.5325 - root_mean_squared_error: 47.0011 - val_loss: 2465.9272 - val_root_mean_squared_error: 49.6346\n",
            "Epoch 10/200\n",
            "193/193 [==============================] - 2s 9ms/step - loss: 2205.5833 - root_mean_squared_error: 46.9348 - val_loss: 2465.7468 - val_root_mean_squared_error: 49.6303\n",
            "Epoch 11/200\n",
            "193/193 [==============================] - 2s 9ms/step - loss: 2202.8762 - root_mean_squared_error: 46.9017 - val_loss: 2468.8311 - val_root_mean_squared_error: 49.6570\n",
            "Epoch 12/200\n",
            "193/193 [==============================] - 2s 9ms/step - loss: 2199.2527 - root_mean_squared_error: 46.8586 - val_loss: 2471.7576 - val_root_mean_squared_error: 49.6822\n",
            "Epoch 13/200\n",
            "193/193 [==============================] - 2s 9ms/step - loss: 2182.8472 - root_mean_squared_error: 46.6775 - val_loss: 2478.3604 - val_root_mean_squared_error: 49.7432\n",
            "Epoch 14/200\n",
            "193/193 [==============================] - 2s 9ms/step - loss: 2183.5693 - root_mean_squared_error: 46.6787 - val_loss: 2485.1709 - val_root_mean_squared_error: 49.8051\n",
            "Epoch 15/200\n",
            "193/193 [==============================] - 2s 9ms/step - loss: 2183.7388 - root_mean_squared_error: 46.6749 - val_loss: 2478.0862 - val_root_mean_squared_error: 49.7288\n",
            "Epoch 16/200\n",
            "193/193 [==============================] - 2s 9ms/step - loss: 2171.4031 - root_mean_squared_error: 46.5374 - val_loss: 2472.0303 - val_root_mean_squared_error: 49.6632\n",
            "Epoch 17/200\n",
            "193/193 [==============================] - 2s 9ms/step - loss: 2167.4768 - root_mean_squared_error: 46.4902 - val_loss: 2481.5686 - val_root_mean_squared_error: 49.7545\n",
            "Epoch 18/200\n",
            "193/193 [==============================] - 2s 9ms/step - loss: 2149.0583 - root_mean_squared_error: 46.2876 - val_loss: 2488.5090 - val_root_mean_squared_error: 49.8200\n",
            "Epoch 19/200\n",
            "193/193 [==============================] - 2s 9ms/step - loss: 2144.0537 - root_mean_squared_error: 46.2280 - val_loss: 2487.9536 - val_root_mean_squared_error: 49.8093\n",
            "Epoch 20/200\n",
            "193/193 [==============================] - 2s 9ms/step - loss: 2136.2861 - root_mean_squared_error: 46.1391 - val_loss: 2497.9934 - val_root_mean_squared_error: 49.9052\n",
            "Epoch 21/200\n",
            "193/193 [==============================] - 2s 9ms/step - loss: 2128.4053 - root_mean_squared_error: 46.0475 - val_loss: 2457.3530 - val_root_mean_squared_error: 49.4908\n",
            "Epoch 22/200\n",
            "193/193 [==============================] - 2s 9ms/step - loss: 2116.6035 - root_mean_squared_error: 45.9142 - val_loss: 2490.2048 - val_root_mean_squared_error: 49.8167\n",
            "Epoch 23/200\n",
            "193/193 [==============================] - 2s 9ms/step - loss: 2106.4116 - root_mean_squared_error: 45.7981 - val_loss: 2487.6204 - val_root_mean_squared_error: 49.7865\n"
          ]
        }
      ]
    },
    {
      "cell_type": "code",
      "source": [
        "# funtion to plot the losses of our model\n",
        "def plot_loss(history):\n",
        "  plt.plot(np.sqrt(history.history['loss']), label='loss')\n",
        "  plt.plot(np.sqrt(history.history['val_loss']), label='val_loss')\n",
        "  plt.title('LSTM - Data not shuffled - With Location ')\n",
        "  plt.xlabel('Epoch')\n",
        "  plt.ylabel('Error')\n",
        "  plt.ylim(30,60)\n",
        "  plt.legend()\n",
        "  plt.grid(True)"
      ],
      "metadata": {
        "id": "l3EpAf1MsGk6"
      },
      "execution_count": 10,
      "outputs": []
    },
    {
      "cell_type": "code",
      "source": [
        "plot_loss(history)"
      ],
      "metadata": {
        "colab": {
          "base_uri": "https://localhost:8080/",
          "height": 295
        },
        "id": "mezWshuAsI8n",
        "outputId": "d2b9a6df-85e6-4579-a1a9-eceb7e3f414d"
      },
      "execution_count": 11,
      "outputs": [
        {
          "output_type": "display_data",
          "data": {
            "text/plain": [
              "<Figure size 432x288 with 1 Axes>"
            ],
            "image/png": "[encoded data removed]"
          },
          "metadata": {
            "needs_background": "light"
          }
        }
      ]
    }
  ]
}