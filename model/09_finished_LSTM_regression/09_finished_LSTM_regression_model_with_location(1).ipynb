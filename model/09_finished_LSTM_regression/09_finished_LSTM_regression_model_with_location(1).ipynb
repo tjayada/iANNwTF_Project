{
  "nbformat": 4,
  "nbformat_minor": 0,
  "metadata": {
    "colab": {
      "name": "09_finished_LSTM_regression_model_with_location(1).ipynb",
      "provenance": []
    },
    "kernelspec": {
      "name": "python3",
      "display_name": "Python 3"
    },
    "language_info": {
      "name": "python"
    }
  },
  "cells": [
    {
      "cell_type": "code",
      "execution_count": 16,
      "metadata": {
        "id": "XkDLdfHqq-wm"
      },
      "outputs": [],
      "source": [
        "import pandas as pd\n",
        "import matplotlib.pyplot as plt\n",
        "import tensorflow as tf\n",
        "import numpy as np\n",
        "from sklearn.model_selection import train_test_split"
      ]
    },
    {
      "cell_type": "code",
      "source": [
        "# Load Train data from our github repo\n",
        "url_train = 'https://raw.githubusercontent.com/tjayada/iANNwTF_Project/main/data/cleaned%20data%20LSTM%20(1)/LSTM_data_without_columns_train.csv'\n",
        "dataDF_train = pd.read_csv(url_train)\n",
        "\n",
        "# Load Train label data from our github repo\n",
        "url_train_labels = 'https://raw.githubusercontent.com/tjayada/iANNwTF_Project/main/data/cleaned%20data%20LSTM%20(1)/LSTM_data_without_columns_train_labels.csv'\n",
        "dataDF_train_labels = pd.read_csv(url_train_labels)"
      ],
      "metadata": {
        "id": "CdZ9bjpsrJkL"
      },
      "execution_count": 17,
      "outputs": []
    },
    {
      "cell_type": "code",
      "source": [
        "# drop indices \n",
        "dataDF_train = dataDF_train.drop(\"Unnamed: 0\", axis = 1)\n",
        "dataDF_train_labels = dataDF_train_labels.drop(\"Unnamed: 0\", axis = 1)"
      ],
      "metadata": {
        "id": "VmYyCzKnrjNm"
      },
      "execution_count": 18,
      "outputs": []
    },
    {
      "cell_type": "code",
      "source": [
        "# reshape input to be 3D [samples, timesteps, features]\n",
        "dataDF_train = dataDF_train.to_numpy()\n",
        "dataDF_train_labels = dataDF_train_labels.to_numpy()\n",
        "\n",
        "dataDF_train = dataDF_train.reshape((dataDF_train.shape[0], 1, dataDF_train.shape[1]))"
      ],
      "metadata": {
        "id": "t21zulmqrkPT"
      },
      "execution_count": 19,
      "outputs": []
    },
    {
      "cell_type": "code",
      "source": [
        "# split data into training and test\n",
        "X_train, X_valid, y_train, y_valid = train_test_split(dataDF_train, dataDF_train_labels, test_size=0.25, shuffle=False)"
      ],
      "metadata": {
        "id": "EDg683mrrnga"
      },
      "execution_count": 20,
      "outputs": []
    },
    {
      "cell_type": "code",
      "source": [
        "model = tf.keras.Sequential()\n",
        "model.add(tf.keras.layers.LSTM(200, kernel_regularizer=tf.keras.regularizers.l2(0.001)))\n",
        "model.add(tf.keras.layers.Dropout(0.5))\n",
        "model.add(tf.keras.layers.Dense(1))"
      ],
      "metadata": {
        "id": "BP1RcFkur5GQ"
      },
      "execution_count": 21,
      "outputs": []
    },
    {
      "cell_type": "code",
      "source": [
        "model.compile(loss='mse',\n",
        "                metrics=[tf.keras.metrics.RootMeanSquaredError()],\n",
        "                optimizer=tf.keras.optimizers.Nadam(0.01))"
      ],
      "metadata": {
        "id": "Iyjqew1Kr79h"
      },
      "execution_count": 22,
      "outputs": []
    },
    {
      "cell_type": "code",
      "source": [
        "callback = [tf.keras.callbacks.EarlyStopping(monitor='val_loss', patience=20),\n",
        "             tf.keras.callbacks.ModelCheckpoint(filepath='best_model.h5', monitor='val_loss', save_best_only=True)]"
      ],
      "metadata": {
        "id": "sZ17BdAdr-o7"
      },
      "execution_count": 23,
      "outputs": []
    },
    {
      "cell_type": "code",
      "source": [
        "history = model.fit(\n",
        "    X_train, y_train,\n",
        "    batch_size = 64,\n",
        "    epochs=200,\n",
        "    callbacks = [callback],\n",
        "    validation_data=(X_valid, y_valid),\n",
        "    verbose=1,\n",
        "    shuffle = False,\n",
        "    validation_split = 0.1\n",
        "    )"
      ],
      "metadata": {
        "colab": {
          "base_uri": "https://localhost:8080/"
        },
        "id": "siiCvLcFsC4K",
        "outputId": "839f980a-0b84-451e-c1dd-781b59bbf8b1"
      },
      "execution_count": 24,
      "outputs": [
        {
          "output_type": "stream",
          "name": "stdout",
          "text": [
            "Epoch 1/200\n",
            "193/193 [==============================] - 4s 9ms/step - loss: 2434.6272 - root_mean_squared_error: 49.3357 - val_loss: 2460.8730 - val_root_mean_squared_error: 49.6010\n",
            "Epoch 2/200\n",
            "193/193 [==============================] - 1s 7ms/step - loss: 2210.3435 - root_mean_squared_error: 47.0078 - val_loss: 2456.9829 - val_root_mean_squared_error: 49.5622\n",
            "Epoch 3/200\n",
            "193/193 [==============================] - 1s 7ms/step - loss: 2217.4263 - root_mean_squared_error: 47.0817 - val_loss: 2454.6350 - val_root_mean_squared_error: 49.5373\n",
            "Epoch 4/200\n",
            "193/193 [==============================] - 2s 9ms/step - loss: 2212.4727 - root_mean_squared_error: 47.0266 - val_loss: 2454.8655 - val_root_mean_squared_error: 49.5375\n",
            "Epoch 5/200\n",
            "193/193 [==============================] - 1s 7ms/step - loss: 2197.6956 - root_mean_squared_error: 46.8666 - val_loss: 2455.0278 - val_root_mean_squared_error: 49.5368\n",
            "Epoch 6/200\n",
            "193/193 [==============================] - 1s 7ms/step - loss: 2213.6292 - root_mean_squared_error: 47.0339 - val_loss: 2457.6292 - val_root_mean_squared_error: 49.5609\n",
            "Epoch 7/200\n",
            "193/193 [==============================] - 1s 7ms/step - loss: 2211.5393 - root_mean_squared_error: 47.0079 - val_loss: 2458.3774 - val_root_mean_squared_error: 49.5648\n",
            "Epoch 8/200\n",
            "193/193 [==============================] - 1s 7ms/step - loss: 2209.3049 - root_mean_squared_error: 46.9813 - val_loss: 2463.3408 - val_root_mean_squared_error: 49.6125\n",
            "Epoch 9/200\n",
            "193/193 [==============================] - 1s 7ms/step - loss: 2200.4558 - root_mean_squared_error: 46.8834 - val_loss: 2469.8438 - val_root_mean_squared_error: 49.6743\n",
            "Epoch 10/200\n",
            "193/193 [==============================] - 1s 7ms/step - loss: 2209.5530 - root_mean_squared_error: 46.9767 - val_loss: 2468.5305 - val_root_mean_squared_error: 49.6576\n",
            "Epoch 11/200\n",
            "193/193 [==============================] - 1s 7ms/step - loss: 2200.4915 - root_mean_squared_error: 46.8751 - val_loss: 2465.0791 - val_root_mean_squared_error: 49.6180\n",
            "Epoch 12/200\n",
            "193/193 [==============================] - 1s 7ms/step - loss: 2210.2039 - root_mean_squared_error: 46.9748 - val_loss: 2469.4436 - val_root_mean_squared_error: 49.6588\n",
            "Epoch 13/200\n",
            "193/193 [==============================] - 1s 7ms/step - loss: 2198.5549 - root_mean_squared_error: 46.8454 - val_loss: 2470.3904 - val_root_mean_squared_error: 49.6633\n",
            "Epoch 14/200\n",
            "193/193 [==============================] - 1s 7ms/step - loss: 2185.2629 - root_mean_squared_error: 46.6991 - val_loss: 2473.6455 - val_root_mean_squared_error: 49.6918\n",
            "Epoch 15/200\n",
            "193/193 [==============================] - 1s 7ms/step - loss: 2177.7681 - root_mean_squared_error: 46.6133 - val_loss: 2472.6218 - val_root_mean_squared_error: 49.6764\n",
            "Epoch 16/200\n",
            "193/193 [==============================] - 1s 8ms/step - loss: 2177.8811 - root_mean_squared_error: 46.6092 - val_loss: 2503.2073 - val_root_mean_squared_error: 49.9782\n",
            "Epoch 17/200\n",
            "193/193 [==============================] - 3s 14ms/step - loss: 2178.7954 - root_mean_squared_error: 46.6132 - val_loss: 2482.9924 - val_root_mean_squared_error: 49.7702\n",
            "Epoch 18/200\n",
            "193/193 [==============================] - 3s 15ms/step - loss: 2159.0830 - root_mean_squared_error: 46.3973 - val_loss: 2483.7388 - val_root_mean_squared_error: 49.7739\n",
            "Epoch 19/200\n",
            "193/193 [==============================] - 2s 11ms/step - loss: 2150.7202 - root_mean_squared_error: 46.3028 - val_loss: 2484.3545 - val_root_mean_squared_error: 49.7761\n",
            "Epoch 20/200\n",
            "193/193 [==============================] - 1s 7ms/step - loss: 2140.2605 - root_mean_squared_error: 46.1851 - val_loss: 2496.4121 - val_root_mean_squared_error: 49.8927\n",
            "Epoch 21/200\n",
            "193/193 [==============================] - 1s 7ms/step - loss: 2136.6851 - root_mean_squared_error: 46.1425 - val_loss: 2511.9707 - val_root_mean_squared_error: 50.0447\n",
            "Epoch 22/200\n",
            "193/193 [==============================] - 1s 7ms/step - loss: 2131.2166 - root_mean_squared_error: 46.0784 - val_loss: 2498.9871 - val_root_mean_squared_error: 49.9104\n",
            "Epoch 23/200\n",
            "193/193 [==============================] - 1s 7ms/step - loss: 2128.5874 - root_mean_squared_error: 46.0457 - val_loss: 2488.0574 - val_root_mean_squared_error: 49.7967\n"
          ]
        }
      ]
    },
    {
      "cell_type": "code",
      "source": [
        "def plot_loss(history):\n",
        "  plt.plot(np.sqrt(history.history['loss']), label='loss')\n",
        "  plt.plot(np.sqrt(history.history['val_loss']), label='val_loss')\n",
        "  plt.title('LSTM - Data not shuffled - With Location ')\n",
        "  plt.xlabel('Epoch')\n",
        "  plt.ylabel('Error')\n",
        "  plt.legend()\n",
        "  plt.grid(True)"
      ],
      "metadata": {
        "id": "l3EpAf1MsGk6"
      },
      "execution_count": 27,
      "outputs": []
    },
    {
      "cell_type": "code",
      "source": [
        "plot_loss(history)"
      ],
      "metadata": {
        "colab": {
          "base_uri": "https://localhost:8080/",
          "height": 295
        },
        "id": "mezWshuAsI8n",
        "outputId": "e9187da7-9656-45c6-f645-33e9c3cd5d5f"
      },
      "execution_count": 28,
      "outputs": [
        {
          "output_type": "display_data",
          "data": {
            "text/plain": [
              "<Figure size 432x288 with 1 Axes>"
            ],
            "image/png": "[encoded data removed]"
          },
          "metadata": {
            "needs_background": "light"
          }
        }
      ]
    }
  ]
}