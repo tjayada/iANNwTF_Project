{
  "nbformat": 4,
  "nbformat_minor": 0,
  "metadata": {
    "colab": {
      "name": "09_finished_LSTM_regression_model(1).ipynb",
      "provenance": [],
      "collapsed_sections": []
    },
    "kernelspec": {
      "name": "python3",
      "display_name": "Python 3"
    },
    "language_info": {
      "name": "python"
    }
  },
  "cells": [
    {
      "cell_type": "code",
      "execution_count": 28,
      "metadata": {
        "id": "So2fWDKbORC9"
      },
      "outputs": [],
      "source": [
        "import pandas as pd\n",
        "import matplotlib.pyplot as plt\n",
        "import tensorflow as tf\n",
        "import numpy as np\n",
        "from sklearn.model_selection import train_test_split"
      ]
    },
    {
      "cell_type": "code",
      "source": [
        "# Load Train data from our github repo\n",
        "url_train = 'https://raw.githubusercontent.com/tjayada/iANNwTF_Project/main/data/cleaned%20data%20(1)/data_without_columns_train.csv'\n",
        "dataDF_train = pd.read_csv(url_train)\n",
        "\n",
        "# Load Train label data from our github repo\n",
        "url_train_labels = 'https://raw.githubusercontent.com/tjayada/iANNwTF_Project/main/data/cleaned%20data%20(1)/data_without_columns_train_labels.csv'\n",
        "dataDF_train_labels = pd.read_csv(url_train_labels)"
      ],
      "metadata": {
        "id": "D35wpGA0Oub9"
      },
      "execution_count": 29,
      "outputs": []
    },
    {
      "cell_type": "code",
      "source": [
        "# drop indices \n",
        "dataDF_train = dataDF_train.drop(\"Unnamed: 0\", axis = 1)\n",
        "dataDF_train_labels = dataDF_train_labels.drop(\"Unnamed: 0\", axis = 1)"
      ],
      "metadata": {
        "id": "tnpeLf2KOwMU"
      },
      "execution_count": 30,
      "outputs": []
    },
    {
      "cell_type": "code",
      "source": [
        "# reshape input to be 3D [samples, timesteps, features]\n",
        "dataDF_train = dataDF_train.to_numpy()\n",
        "dataDF_train_labels = dataDF_train_labels.to_numpy()\n",
        "\n",
        "dataDF_train = dataDF_train.reshape((dataDF_train.shape[0], 1, dataDF_train.shape[1]))"
      ],
      "metadata": {
        "id": "tP7an-QKOy2F"
      },
      "execution_count": 31,
      "outputs": []
    },
    {
      "cell_type": "code",
      "source": [
        "# split data into training and test\n",
        "X_train, X_valid, y_train, y_valid = train_test_split(dataDF_train, dataDF_train_labels, test_size=0.25, shuffle=False)"
      ],
      "metadata": {
        "id": "Kia2wHzDPKKp"
      },
      "execution_count": 32,
      "outputs": []
    },
    {
      "cell_type": "code",
      "source": [
        "# use functional API of tensorflow to generate model\n",
        "# also using dropout and regularizers to prevent overfitting\n",
        "model = tf.keras.Sequential()\n",
        "model.add(tf.keras.layers.LSTM(200, kernel_regularizer=tf.keras.regularizers.l2(0.001)))\n",
        "model.add(tf.keras.layers.Dropout(0.5))\n",
        "model.add(tf.keras.layers.Dense(1))"
      ],
      "metadata": {
        "id": "Tx6mEHncXp9x"
      },
      "execution_count": 33,
      "outputs": []
    },
    {
      "cell_type": "code",
      "source": [
        "# use the functional API to compile our model with a Mean Squared Error as a loss function\n",
        "# and using the optimizer Nadam with a learning rate of 0.01\n",
        "model.compile(loss='mse',\n",
        "                metrics=[tf.keras.metrics.RootMeanSquaredError()],\n",
        "                optimizer=tf.keras.optimizers.Nadam(0.01))"
      ],
      "metadata": {
        "id": "uhHZ5vGZXtK-"
      },
      "execution_count": 34,
      "outputs": []
    },
    {
      "cell_type": "code",
      "source": [
        "# implement a early stopping function, that stops if the model doesnt improve for 20 epochs\n",
        "# also saves the \"best\" model version of this period, instead of using the last one, that might be worse than\n",
        "# the epochs before\n",
        "callback = [tf.keras.callbacks.EarlyStopping(monitor='val_loss', patience=20),\n",
        "             tf.keras.callbacks.ModelCheckpoint(filepath='best_model.h5', monitor='val_loss', save_best_only=True)]\n"
      ],
      "metadata": {
        "id": "9MhTFl9kfc5l"
      },
      "execution_count": 35,
      "outputs": []
    },
    {
      "cell_type": "code",
      "source": [
        "# train our model using the functional API \n",
        "# we train for 200 epochs, use early stopping and a validation set\n",
        "history = model.fit(\n",
        "    X_train, y_train,\n",
        "    batch_size = 64,\n",
        "    epochs=200,\n",
        "    callbacks = [callback],\n",
        "    validation_data=(X_valid, y_valid),\n",
        "    verbose=1,\n",
        "    shuffle = False,\n",
        "    validation_split = 0.1\n",
        "    )"
      ],
      "metadata": {
        "colab": {
          "base_uri": "https://localhost:8080/"
        },
        "id": "oSlB1MsXXwnk",
        "outputId": "9fcdb2b1-10e4-4ca5-9544-ef76ea9644b9"
      },
      "execution_count": 36,
      "outputs": [
        {
          "output_type": "stream",
          "name": "stdout",
          "text": [
            "Epoch 1/200\n",
            "193/193 [==============================] - 18s 16ms/step - loss: 2455.2971 - root_mean_squared_error: 49.5396 - val_loss: 2459.5339 - val_root_mean_squared_error: 49.5807\n",
            "Epoch 2/200\n",
            "193/193 [==============================] - 2s 13ms/step - loss: 2210.5842 - root_mean_squared_error: 47.0018 - val_loss: 2430.8486 - val_root_mean_squared_error: 49.2835\n",
            "Epoch 3/200\n",
            "193/193 [==============================] - 3s 13ms/step - loss: 2092.7947 - root_mean_squared_error: 45.7117 - val_loss: 2277.8362 - val_root_mean_squared_error: 47.6829\n",
            "Epoch 4/200\n",
            "193/193 [==============================] - 2s 12ms/step - loss: 2005.4248 - root_mean_squared_error: 44.7268 - val_loss: 2199.2793 - val_root_mean_squared_error: 46.8357\n",
            "Epoch 5/200\n",
            "193/193 [==============================] - 2s 12ms/step - loss: 1931.4510 - root_mean_squared_error: 43.8764 - val_loss: 2130.5645 - val_root_mean_squared_error: 46.0816\n",
            "Epoch 6/200\n",
            "193/193 [==============================] - 2s 12ms/step - loss: 1863.7557 - root_mean_squared_error: 43.0834 - val_loss: 2065.0193 - val_root_mean_squared_error: 45.3511\n",
            "Epoch 7/200\n",
            "193/193 [==============================] - 2s 13ms/step - loss: 1791.5637 - root_mean_squared_error: 42.2232 - val_loss: 2002.8785 - val_root_mean_squared_error: 44.6471\n",
            "Epoch 8/200\n",
            "193/193 [==============================] - 3s 13ms/step - loss: 1729.9457 - root_mean_squared_error: 41.4725 - val_loss: 1952.8030 - val_root_mean_squared_error: 44.0686\n",
            "Epoch 9/200\n",
            "193/193 [==============================] - 3s 13ms/step - loss: 1667.8091 - root_mean_squared_error: 40.7018 - val_loss: 1919.8817 - val_root_mean_squared_error: 43.6796\n",
            "Epoch 10/200\n",
            "193/193 [==============================] - 3s 14ms/step - loss: 1629.3330 - root_mean_squared_error: 40.2122 - val_loss: 1876.8450 - val_root_mean_squared_error: 43.1713\n",
            "Epoch 11/200\n",
            "193/193 [==============================] - 2s 12ms/step - loss: 1595.3008 - root_mean_squared_error: 39.7736 - val_loss: 1849.8472 - val_root_mean_squared_error: 42.8459\n",
            "Epoch 12/200\n",
            "193/193 [==============================] - 2s 13ms/step - loss: 1563.2142 - root_mean_squared_error: 39.3564 - val_loss: 1827.4537 - val_root_mean_squared_error: 42.5732\n",
            "Epoch 13/200\n",
            "193/193 [==============================] - 2s 12ms/step - loss: 1545.4218 - root_mean_squared_error: 39.1190 - val_loss: 1801.5920 - val_root_mean_squared_error: 42.2588\n",
            "Epoch 14/200\n",
            "193/193 [==============================] - 3s 13ms/step - loss: 1524.6549 - root_mean_squared_error: 38.8430 - val_loss: 1792.3330 - val_root_mean_squared_error: 42.1410\n",
            "Epoch 15/200\n",
            "193/193 [==============================] - 2s 12ms/step - loss: 1508.3866 - root_mean_squared_error: 38.6245 - val_loss: 1770.8903 - val_root_mean_squared_error: 41.8782\n",
            "Epoch 16/200\n",
            "193/193 [==============================] - 2s 13ms/step - loss: 1499.3413 - root_mean_squared_error: 38.4994 - val_loss: 1760.7140 - val_root_mean_squared_error: 41.7502\n",
            "Epoch 17/200\n",
            "193/193 [==============================] - 3s 14ms/step - loss: 1485.7957 - root_mean_squared_error: 38.3162 - val_loss: 1749.9005 - val_root_mean_squared_error: 41.6136\n",
            "Epoch 18/200\n",
            "193/193 [==============================] - 2s 12ms/step - loss: 1482.4359 - root_mean_squared_error: 38.2652 - val_loss: 1725.7635 - val_root_mean_squared_error: 41.3165\n",
            "Epoch 19/200\n",
            "193/193 [==============================] - 2s 12ms/step - loss: 1464.2118 - root_mean_squared_error: 38.0203 - val_loss: 1721.8555 - val_root_mean_squared_error: 41.2642\n",
            "Epoch 20/200\n",
            "193/193 [==============================] - 2s 12ms/step - loss: 1462.5243 - root_mean_squared_error: 37.9926 - val_loss: 1708.6616 - val_root_mean_squared_error: 41.0990\n",
            "Epoch 21/200\n",
            "193/193 [==============================] - 2s 12ms/step - loss: 1460.5872 - root_mean_squared_error: 37.9616 - val_loss: 1700.2499 - val_root_mean_squared_error: 40.9917\n",
            "Epoch 22/200\n",
            "193/193 [==============================] - 2s 11ms/step - loss: 1447.2817 - root_mean_squared_error: 37.7809 - val_loss: 1700.5000 - val_root_mean_squared_error: 40.9905\n",
            "Epoch 23/200\n",
            "193/193 [==============================] - 2s 11ms/step - loss: 1447.5961 - root_mean_squared_error: 37.7802 - val_loss: 1694.6289 - val_root_mean_squared_error: 40.9141\n",
            "Epoch 24/200\n",
            "193/193 [==============================] - 2s 13ms/step - loss: 1431.6204 - root_mean_squared_error: 37.5634 - val_loss: 1689.1348 - val_root_mean_squared_error: 40.8427\n",
            "Epoch 25/200\n",
            "193/193 [==============================] - 3s 14ms/step - loss: 1437.8597 - root_mean_squared_error: 37.6417 - val_loss: 1679.2251 - val_root_mean_squared_error: 40.7167\n",
            "Epoch 26/200\n",
            "193/193 [==============================] - 2s 11ms/step - loss: 1424.8441 - root_mean_squared_error: 37.4641 - val_loss: 1664.5349 - val_root_mean_squared_error: 40.5325\n",
            "Epoch 27/200\n",
            "193/193 [==============================] - 2s 12ms/step - loss: 1432.3242 - root_mean_squared_error: 37.5595 - val_loss: 1670.5950 - val_root_mean_squared_error: 40.6027\n",
            "Epoch 28/200\n",
            "193/193 [==============================] - 2s 11ms/step - loss: 1424.4857 - root_mean_squared_error: 37.4503 - val_loss: 1665.1913 - val_root_mean_squared_error: 40.5324\n",
            "Epoch 29/200\n",
            "193/193 [==============================] - 2s 12ms/step - loss: 1418.1722 - root_mean_squared_error: 37.3616 - val_loss: 1666.0366 - val_root_mean_squared_error: 40.5386\n",
            "Epoch 30/200\n",
            "193/193 [==============================] - 2s 12ms/step - loss: 1414.8717 - root_mean_squared_error: 37.3131 - val_loss: 1659.3590 - val_root_mean_squared_error: 40.4525\n",
            "Epoch 31/200\n",
            "193/193 [==============================] - 2s 12ms/step - loss: 1414.6855 - root_mean_squared_error: 37.3063 - val_loss: 1652.3475 - val_root_mean_squared_error: 40.3617\n",
            "Epoch 32/200\n",
            "193/193 [==============================] - 3s 13ms/step - loss: 1400.7856 - root_mean_squared_error: 37.1152 - val_loss: 1650.1948 - val_root_mean_squared_error: 40.3313\n",
            "Epoch 33/200\n",
            "193/193 [==============================] - 3s 13ms/step - loss: 1397.7451 - root_mean_squared_error: 37.0704 - val_loss: 1636.1560 - val_root_mean_squared_error: 40.1530\n",
            "Epoch 34/200\n",
            "193/193 [==============================] - 2s 11ms/step - loss: 1389.9100 - root_mean_squared_error: 36.9606 - val_loss: 1618.2775 - val_root_mean_squared_error: 39.9266\n",
            "Epoch 35/200\n",
            "193/193 [==============================] - 2s 11ms/step - loss: 1379.8185 - root_mean_squared_error: 36.8202 - val_loss: 1636.3228 - val_root_mean_squared_error: 40.1483\n",
            "Epoch 36/200\n",
            "193/193 [==============================] - 2s 12ms/step - loss: 1400.9728 - root_mean_squared_error: 37.1019 - val_loss: 1624.9918 - val_root_mean_squared_error: 40.0031\n",
            "Epoch 37/200\n",
            "193/193 [==============================] - 3s 13ms/step - loss: 1385.9034 - root_mean_squared_error: 36.8945 - val_loss: 1624.7802 - val_root_mean_squared_error: 39.9972\n",
            "Epoch 38/200\n",
            "193/193 [==============================] - 3s 15ms/step - loss: 1383.5396 - root_mean_squared_error: 36.8588 - val_loss: 1610.4287 - val_root_mean_squared_error: 39.8139\n",
            "Epoch 39/200\n",
            "193/193 [==============================] - 2s 11ms/step - loss: 1372.1173 - root_mean_squared_error: 36.6998 - val_loss: 1613.8579 - val_root_mean_squared_error: 39.8535\n",
            "Epoch 40/200\n",
            "193/193 [==============================] - 3s 13ms/step - loss: 1374.2406 - root_mean_squared_error: 36.7248 - val_loss: 1610.9413 - val_root_mean_squared_error: 39.8133\n",
            "Epoch 41/200\n",
            "193/193 [==============================] - 3s 14ms/step - loss: 1360.0841 - root_mean_squared_error: 36.5278 - val_loss: 1606.0530 - val_root_mean_squared_error: 39.7487\n",
            "Epoch 42/200\n",
            "193/193 [==============================] - 3s 14ms/step - loss: 1366.7748 - root_mean_squared_error: 36.6158 - val_loss: 1597.0911 - val_root_mean_squared_error: 39.6326\n",
            "Epoch 43/200\n",
            "193/193 [==============================] - 2s 12ms/step - loss: 1353.1385 - root_mean_squared_error: 36.4261 - val_loss: 1591.6388 - val_root_mean_squared_error: 39.5612\n",
            "Epoch 44/200\n",
            "193/193 [==============================] - 3s 13ms/step - loss: 1352.0660 - root_mean_squared_error: 36.4075 - val_loss: 1581.4203 - val_root_mean_squared_error: 39.4277\n",
            "Epoch 45/200\n",
            "193/193 [==============================] - 2s 12ms/step - loss: 1367.5861 - root_mean_squared_error: 36.6165 - val_loss: 1593.8562 - val_root_mean_squared_error: 39.5824\n",
            "Epoch 46/200\n",
            "193/193 [==============================] - 2s 12ms/step - loss: 1357.6641 - root_mean_squared_error: 36.4775 - val_loss: 1575.3208 - val_root_mean_squared_error: 39.3443\n",
            "Epoch 47/200\n",
            "193/193 [==============================] - 3s 13ms/step - loss: 1365.0314 - root_mean_squared_error: 36.5748 - val_loss: 1582.0128 - val_root_mean_squared_error: 39.4261\n",
            "Epoch 48/200\n",
            "193/193 [==============================] - 3s 13ms/step - loss: 1350.6672 - root_mean_squared_error: 36.3749 - val_loss: 1599.4698 - val_root_mean_squared_error: 39.6442\n",
            "Epoch 49/200\n",
            "193/193 [==============================] - 2s 12ms/step - loss: 1352.5660 - root_mean_squared_error: 36.3972 - val_loss: 1590.0049 - val_root_mean_squared_error: 39.5208\n",
            "Epoch 50/200\n",
            "193/193 [==============================] - 2s 11ms/step - loss: 1360.5326 - root_mean_squared_error: 36.5028 - val_loss: 1592.1292 - val_root_mean_squared_error: 39.5450\n",
            "Epoch 51/200\n",
            "193/193 [==============================] - 2s 11ms/step - loss: 1337.4999 - root_mean_squared_error: 36.1828 - val_loss: 1568.9093 - val_root_mean_squared_error: 39.2465\n",
            "Epoch 52/200\n",
            "193/193 [==============================] - 3s 14ms/step - loss: 1348.0947 - root_mean_squared_error: 36.3251 - val_loss: 1567.9156 - val_root_mean_squared_error: 39.2310\n",
            "Epoch 53/200\n",
            "193/193 [==============================] - 2s 11ms/step - loss: 1339.6677 - root_mean_squared_error: 36.2060 - val_loss: 1569.9685 - val_root_mean_squared_error: 39.2545\n",
            "Epoch 54/200\n",
            "193/193 [==============================] - 3s 14ms/step - loss: 1332.0482 - root_mean_squared_error: 36.0976 - val_loss: 1558.2589 - val_root_mean_squared_error: 39.1025\n",
            "Epoch 55/200\n",
            "193/193 [==============================] - 3s 13ms/step - loss: 1323.1283 - root_mean_squared_error: 35.9707 - val_loss: 1543.7662 - val_root_mean_squared_error: 38.9136\n",
            "Epoch 56/200\n",
            "193/193 [==============================] - 3s 13ms/step - loss: 1334.7548 - root_mean_squared_error: 36.1282 - val_loss: 1556.0103 - val_root_mean_squared_error: 39.0671\n",
            "Epoch 57/200\n",
            "193/193 [==============================] - 2s 12ms/step - loss: 1322.9274 - root_mean_squared_error: 35.9610 - val_loss: 1575.8586 - val_root_mean_squared_error: 39.3175\n",
            "Epoch 58/200\n",
            "193/193 [==============================] - 3s 13ms/step - loss: 1330.2947 - root_mean_squared_error: 36.0602 - val_loss: 1572.4240 - val_root_mean_squared_error: 39.2713\n",
            "Epoch 59/200\n",
            "193/193 [==============================] - 3s 13ms/step - loss: 1318.9797 - root_mean_squared_error: 35.9002 - val_loss: 1555.1674 - val_root_mean_squared_error: 39.0483\n",
            "Epoch 60/200\n",
            "193/193 [==============================] - 2s 12ms/step - loss: 1311.4504 - root_mean_squared_error: 35.7921 - val_loss: 1543.2860 - val_root_mean_squared_error: 38.8931\n",
            "Epoch 61/200\n",
            "193/193 [==============================] - 3s 14ms/step - loss: 1310.7716 - root_mean_squared_error: 35.7799 - val_loss: 1545.7145 - val_root_mean_squared_error: 38.9217\n",
            "Epoch 62/200\n",
            "193/193 [==============================] - 2s 11ms/step - loss: 1304.3948 - root_mean_squared_error: 35.6874 - val_loss: 1549.8235 - val_root_mean_squared_error: 38.9715\n",
            "Epoch 63/200\n",
            "193/193 [==============================] - 2s 12ms/step - loss: 1321.9601 - root_mean_squared_error: 35.9296 - val_loss: 1552.3870 - val_root_mean_squared_error: 39.0012\n",
            "Epoch 64/200\n",
            "193/193 [==============================] - 2s 12ms/step - loss: 1313.0393 - root_mean_squared_error: 35.8019 - val_loss: 1555.2280 - val_root_mean_squared_error: 39.0346\n",
            "Epoch 65/200\n",
            "193/193 [==============================] - 2s 13ms/step - loss: 1307.5133 - root_mean_squared_error: 35.7212 - val_loss: 1562.1289 - val_root_mean_squared_error: 39.1203\n",
            "Epoch 66/200\n",
            "193/193 [==============================] - 2s 13ms/step - loss: 1309.0834 - root_mean_squared_error: 35.7407 - val_loss: 1539.8396 - val_root_mean_squared_error: 38.8320\n",
            "Epoch 67/200\n",
            "193/193 [==============================] - 3s 13ms/step - loss: 1296.3439 - root_mean_squared_error: 35.5591 - val_loss: 1547.6514 - val_root_mean_squared_error: 38.9298\n",
            "Epoch 68/200\n",
            "193/193 [==============================] - 2s 11ms/step - loss: 1306.7677 - root_mean_squared_error: 35.7023 - val_loss: 1542.8569 - val_root_mean_squared_error: 38.8648\n",
            "Epoch 69/200\n",
            "193/193 [==============================] - 2s 12ms/step - loss: 1304.2247 - root_mean_squared_error: 35.6628 - val_loss: 1545.3752 - val_root_mean_squared_error: 38.8940\n",
            "Epoch 70/200\n",
            "193/193 [==============================] - 2s 11ms/step - loss: 1292.1641 - root_mean_squared_error: 35.4900 - val_loss: 1529.2882 - val_root_mean_squared_error: 38.6839\n",
            "Epoch 71/200\n",
            "193/193 [==============================] - 2s 12ms/step - loss: 1295.4255 - root_mean_squared_error: 35.5333 - val_loss: 1526.7793 - val_root_mean_squared_error: 38.6490\n",
            "Epoch 72/200\n",
            "193/193 [==============================] - 2s 13ms/step - loss: 1290.4907 - root_mean_squared_error: 35.4611 - val_loss: 1522.6116 - val_root_mean_squared_error: 38.5926\n",
            "Epoch 73/200\n",
            "193/193 [==============================] - 2s 12ms/step - loss: 1278.2347 - root_mean_squared_error: 35.2851 - val_loss: 1514.0931 - val_root_mean_squared_error: 38.4792\n",
            "Epoch 74/200\n",
            "193/193 [==============================] - 3s 13ms/step - loss: 1279.7413 - root_mean_squared_error: 35.3029 - val_loss: 1525.6660 - val_root_mean_squared_error: 38.6263\n",
            "Epoch 75/200\n",
            "193/193 [==============================] - 2s 12ms/step - loss: 1275.9521 - root_mean_squared_error: 35.2465 - val_loss: 1519.4078 - val_root_mean_squared_error: 38.5431\n",
            "Epoch 76/200\n",
            "193/193 [==============================] - 2s 11ms/step - loss: 1285.3776 - root_mean_squared_error: 35.3774 - val_loss: 1508.9238 - val_root_mean_squared_error: 38.4042\n",
            "Epoch 77/200\n",
            "193/193 [==============================] - 2s 11ms/step - loss: 1283.2321 - root_mean_squared_error: 35.3439 - val_loss: 1519.5485 - val_root_mean_squared_error: 38.5393\n",
            "Epoch 78/200\n",
            "193/193 [==============================] - 2s 11ms/step - loss: 1261.6954 - root_mean_squared_error: 35.0352 - val_loss: 1524.1464 - val_root_mean_squared_error: 38.5967\n",
            "Epoch 79/200\n",
            "193/193 [==============================] - 2s 11ms/step - loss: 1284.5133 - root_mean_squared_error: 35.3568 - val_loss: 1517.8285 - val_root_mean_squared_error: 38.5125\n",
            "Epoch 80/200\n",
            "193/193 [==============================] - 2s 12ms/step - loss: 1273.2750 - root_mean_squared_error: 35.1947 - val_loss: 1512.9467 - val_root_mean_squared_error: 38.4463\n",
            "Epoch 81/200\n",
            "193/193 [==============================] - 3s 14ms/step - loss: 1257.1782 - root_mean_squared_error: 34.9624 - val_loss: 1505.9553 - val_root_mean_squared_error: 38.3527\n",
            "Epoch 82/200\n",
            "193/193 [==============================] - 3s 14ms/step - loss: 1278.3993 - root_mean_squared_error: 35.2614 - val_loss: 1505.6423 - val_root_mean_squared_error: 38.3457\n",
            "Epoch 83/200\n",
            "193/193 [==============================] - 3s 15ms/step - loss: 1261.1000 - root_mean_squared_error: 35.0120 - val_loss: 1517.6467 - val_root_mean_squared_error: 38.4989\n",
            "Epoch 84/200\n",
            "193/193 [==============================] - 2s 11ms/step - loss: 1262.3610 - root_mean_squared_error: 35.0268 - val_loss: 1508.0743 - val_root_mean_squared_error: 38.3715\n",
            "Epoch 85/200\n",
            "193/193 [==============================] - 2s 11ms/step - loss: 1263.7769 - root_mean_squared_error: 35.0433 - val_loss: 1526.1697 - val_root_mean_squared_error: 38.6030\n",
            "Epoch 86/200\n",
            "193/193 [==============================] - 2s 12ms/step - loss: 1262.2484 - root_mean_squared_error: 35.0183 - val_loss: 1517.8993 - val_root_mean_squared_error: 38.4930\n",
            "Epoch 87/200\n",
            "193/193 [==============================] - 3s 14ms/step - loss: 1256.6880 - root_mean_squared_error: 34.9355 - val_loss: 1495.4445 - val_root_mean_squared_error: 38.1972\n",
            "Epoch 88/200\n",
            "193/193 [==============================] - 2s 13ms/step - loss: 1264.6931 - root_mean_squared_error: 35.0466 - val_loss: 1502.3517 - val_root_mean_squared_error: 38.2844\n",
            "Epoch 89/200\n",
            "193/193 [==============================] - 2s 12ms/step - loss: 1268.6400 - root_mean_squared_error: 35.0995 - val_loss: 1505.7552 - val_root_mean_squared_error: 38.3259\n",
            "Epoch 90/200\n",
            "193/193 [==============================] - 2s 11ms/step - loss: 1264.3661 - root_mean_squared_error: 35.0355 - val_loss: 1506.3004 - val_root_mean_squared_error: 38.3301\n",
            "Epoch 91/200\n",
            "193/193 [==============================] - 3s 13ms/step - loss: 1254.7440 - root_mean_squared_error: 34.8946 - val_loss: 1518.3732 - val_root_mean_squared_error: 38.4842\n",
            "Epoch 92/200\n",
            "193/193 [==============================] - 2s 11ms/step - loss: 1240.6144 - root_mean_squared_error: 34.6882 - val_loss: 1491.8800 - val_root_mean_squared_error: 38.1354\n",
            "Epoch 93/200\n",
            "193/193 [==============================] - 2s 12ms/step - loss: 1253.9453 - root_mean_squared_error: 34.8765 - val_loss: 1495.5100 - val_root_mean_squared_error: 38.1800\n",
            "Epoch 94/200\n",
            "193/193 [==============================] - 2s 11ms/step - loss: 1253.3810 - root_mean_squared_error: 34.8651 - val_loss: 1509.3467 - val_root_mean_squared_error: 38.3577\n",
            "Epoch 95/200\n",
            "193/193 [==============================] - 3s 13ms/step - loss: 1256.9227 - root_mean_squared_error: 34.9126 - val_loss: 1505.0848 - val_root_mean_squared_error: 38.2990\n",
            "Epoch 96/200\n",
            "193/193 [==============================] - 2s 12ms/step - loss: 1240.5297 - root_mean_squared_error: 34.6736 - val_loss: 1494.4670 - val_root_mean_squared_error: 38.1570\n",
            "Epoch 97/200\n",
            "193/193 [==============================] - 2s 12ms/step - loss: 1250.2877 - root_mean_squared_error: 34.8103 - val_loss: 1498.6456 - val_root_mean_squared_error: 38.2088\n",
            "Epoch 98/200\n",
            "193/193 [==============================] - 2s 12ms/step - loss: 1243.7053 - root_mean_squared_error: 34.7129 - val_loss: 1508.0972 - val_root_mean_squared_error: 38.3294\n",
            "Epoch 99/200\n",
            "193/193 [==============================] - 3s 13ms/step - loss: 1248.6532 - root_mean_squared_error: 34.7802 - val_loss: 1491.4331 - val_root_mean_squared_error: 38.1076\n",
            "Epoch 100/200\n",
            "193/193 [==============================] - 2s 12ms/step - loss: 1239.1041 - root_mean_squared_error: 34.6387 - val_loss: 1493.6698 - val_root_mean_squared_error: 38.1337\n",
            "Epoch 101/200\n",
            "193/193 [==============================] - 2s 11ms/step - loss: 1247.0903 - root_mean_squared_error: 34.7503 - val_loss: 1501.8958 - val_root_mean_squared_error: 38.2382\n",
            "Epoch 102/200\n",
            "193/193 [==============================] - 2s 11ms/step - loss: 1242.8308 - root_mean_squared_error: 34.6856 - val_loss: 1498.6393 - val_root_mean_squared_error: 38.1922\n",
            "Epoch 103/200\n",
            "193/193 [==============================] - 2s 11ms/step - loss: 1237.9149 - root_mean_squared_error: 34.6106 - val_loss: 1490.6926 - val_root_mean_squared_error: 38.0847\n",
            "Epoch 104/200\n",
            "193/193 [==============================] - 2s 11ms/step - loss: 1232.3948 - root_mean_squared_error: 34.5273 - val_loss: 1483.8738 - val_root_mean_squared_error: 37.9920\n",
            "Epoch 105/200\n",
            "193/193 [==============================] - 2s 11ms/step - loss: 1232.6263 - root_mean_squared_error: 34.5270 - val_loss: 1500.2581 - val_root_mean_squared_error: 38.2034\n",
            "Epoch 106/200\n",
            "193/193 [==============================] - 2s 12ms/step - loss: 1228.3384 - root_mean_squared_error: 34.4614 - val_loss: 1493.9662 - val_root_mean_squared_error: 38.1182\n",
            "Epoch 107/200\n",
            "193/193 [==============================] - 3s 13ms/step - loss: 1242.1835 - root_mean_squared_error: 34.6580 - val_loss: 1492.9650 - val_root_mean_squared_error: 38.1014\n",
            "Epoch 108/200\n",
            "193/193 [==============================] - 2s 12ms/step - loss: 1253.7638 - root_mean_squared_error: 34.8211 - val_loss: 1501.3876 - val_root_mean_squared_error: 38.2089\n",
            "Epoch 109/200\n",
            "193/193 [==============================] - 2s 13ms/step - loss: 1241.3317 - root_mean_squared_error: 34.6389 - val_loss: 1501.4236 - val_root_mean_squared_error: 38.2062\n",
            "Epoch 110/200\n",
            "193/193 [==============================] - 2s 13ms/step - loss: 1230.3363 - root_mean_squared_error: 34.4759 - val_loss: 1486.1121 - val_root_mean_squared_error: 38.0014\n",
            "Epoch 111/200\n",
            "193/193 [==============================] - 2s 13ms/step - loss: 1224.8331 - root_mean_squared_error: 34.3921 - val_loss: 1500.4440 - val_root_mean_squared_error: 38.1866\n",
            "Epoch 112/200\n",
            "193/193 [==============================] - 3s 14ms/step - loss: 1238.6685 - root_mean_squared_error: 34.5894 - val_loss: 1503.1609 - val_root_mean_squared_error: 38.2190\n",
            "Epoch 113/200\n",
            "193/193 [==============================] - 3s 14ms/step - loss: 1241.2579 - root_mean_squared_error: 34.6234 - val_loss: 1504.6678 - val_root_mean_squared_error: 38.2357\n",
            "Epoch 114/200\n",
            "193/193 [==============================] - 2s 11ms/step - loss: 1239.2056 - root_mean_squared_error: 34.5900 - val_loss: 1496.4142 - val_root_mean_squared_error: 38.1239\n",
            "Epoch 115/200\n",
            "193/193 [==============================] - 2s 12ms/step - loss: 1235.6616 - root_mean_squared_error: 34.5349 - val_loss: 1505.3324 - val_root_mean_squared_error: 38.2373\n",
            "Epoch 116/200\n",
            "193/193 [==============================] - 2s 13ms/step - loss: 1231.2429 - root_mean_squared_error: 34.4673 - val_loss: 1497.6810 - val_root_mean_squared_error: 38.1343\n",
            "Epoch 117/200\n",
            "193/193 [==============================] - 2s 13ms/step - loss: 1217.2502 - root_mean_squared_error: 34.2603 - val_loss: 1499.1514 - val_root_mean_squared_error: 38.1503\n",
            "Epoch 118/200\n",
            "193/193 [==============================] - 2s 12ms/step - loss: 1224.4097 - root_mean_squared_error: 34.3615 - val_loss: 1503.2400 - val_root_mean_squared_error: 38.2014\n",
            "Epoch 119/200\n",
            "193/193 [==============================] - 2s 11ms/step - loss: 1224.0581 - root_mean_squared_error: 34.3532 - val_loss: 1498.2024 - val_root_mean_squared_error: 38.1327\n",
            "Epoch 120/200\n",
            "193/193 [==============================] - 2s 13ms/step - loss: 1218.8528 - root_mean_squared_error: 34.2745 - val_loss: 1490.8717 - val_root_mean_squared_error: 38.0337\n",
            "Epoch 121/200\n",
            "193/193 [==============================] - 3s 13ms/step - loss: 1226.4391 - root_mean_squared_error: 34.3816 - val_loss: 1498.0355 - val_root_mean_squared_error: 38.1245\n",
            "Epoch 122/200\n",
            "193/193 [==============================] - 2s 12ms/step - loss: 1229.6403 - root_mean_squared_error: 34.4248 - val_loss: 1485.9152 - val_root_mean_squared_error: 37.9622\n",
            "Epoch 123/200\n",
            "193/193 [==============================] - 3s 13ms/step - loss: 1233.0837 - root_mean_squared_error: 34.4723 - val_loss: 1490.5504 - val_root_mean_squared_error: 38.0215\n",
            "Epoch 124/200\n",
            "193/193 [==============================] - 2s 13ms/step - loss: 1223.0682 - root_mean_squared_error: 34.3240 - val_loss: 1503.9456 - val_root_mean_squared_error: 38.1944\n"
          ]
        }
      ]
    },
    {
      "cell_type": "code",
      "source": [
        "# function to plot the losses of our model\n",
        "def plot_loss(history):\n",
        "  plt.plot(np.sqrt(history.history['loss']), label='loss')\n",
        "  plt.plot(np.sqrt(history.history['val_loss']), label='val_loss')\n",
        "  plt.title('LSTM - Data shuffled - No Location ')\n",
        "  plt.xlabel('Epoch')\n",
        "  plt.ylabel('Error')\n",
        "  plt.ylim(30,60)\n",
        "  plt.legend()\n",
        "  plt.grid(True)"
      ],
      "metadata": {
        "id": "uz50kqkyX2e0"
      },
      "execution_count": 37,
      "outputs": []
    },
    {
      "cell_type": "code",
      "source": [
        "plot_loss(history)"
      ],
      "metadata": {
        "colab": {
          "base_uri": "https://localhost:8080/",
          "height": 295
        },
        "id": "vhHtnph6X9U7",
        "outputId": "d89dbeb1-b92a-4822-c640-e744cac4699d"
      },
      "execution_count": 38,
      "outputs": [
        {
          "output_type": "display_data",
          "data": {
            "text/plain": [
              "<Figure size 432x288 with 1 Axes>"
            ],
            "image/png": "[encoded data removed]"
          },
          "metadata": {
            "needs_background": "light"
          }
        }
      ]
    }
  ]
}