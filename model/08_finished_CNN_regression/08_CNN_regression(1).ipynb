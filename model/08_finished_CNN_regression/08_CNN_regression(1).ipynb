{
  "nbformat": 4,
  "nbformat_minor": 0,
  "metadata": {
    "colab": {
      "name": "08_CNN_regression(1).ipynb",
      "provenance": [],
      "collapsed_sections": []
    },
    "kernelspec": {
      "name": "python3",
      "display_name": "Python 3"
    },
    "language_info": {
      "name": "python"
    },
    "accelerator": "GPU"
  },
  "cells": [
    {
      "cell_type": "code",
      "execution_count": 22,
      "metadata": {
        "id": "82a8XAoRRKWv"
      },
      "outputs": [],
      "source": [
        "import pandas as pd\n",
        "import matplotlib.pyplot as plt\n",
        "import tensorflow as tf\n",
        "import numpy as np\n",
        "from sklearn.model_selection import train_test_split"
      ]
    },
    {
      "cell_type": "code",
      "source": [
        "# Load Train data from our github repo\n",
        "url_train = 'https://raw.githubusercontent.com/tjayada/iANNwTF_Project/main/data/cleaned%20data%20(1)/data_without_columns_train.csv'\n",
        "dataDF_train = pd.read_csv(url_train)\n",
        "\n",
        "# Load Train label data from our github repo\n",
        "url_train_labels = 'https://raw.githubusercontent.com/tjayada/iANNwTF_Project/main/data/cleaned%20data%20(1)/data_without_columns_train_labels.csv'\n",
        "dataDF_train_labels = pd.read_csv(url_train_labels)"
      ],
      "metadata": {
        "id": "B-M3JchVRT4z"
      },
      "execution_count": 23,
      "outputs": []
    },
    {
      "cell_type": "code",
      "source": [
        "# drop indices \n",
        "dataDF_train = dataDF_train.drop(\"Unnamed: 0\", axis = 1)\n",
        "dataDF_train_labels = dataDF_train_labels.drop(\"Unnamed: 0\", axis = 1)"
      ],
      "metadata": {
        "id": "-LZzJcRmRWbz"
      },
      "execution_count": 24,
      "outputs": []
    },
    {
      "cell_type": "code",
      "source": [
        "# create extra dimension for CNN\n",
        "dataDF_train = dataDF_train.to_numpy()\n",
        "dataDF_train_labels = dataDF_train_labels.to_numpy()\n",
        "\n",
        "dataDF_train = dataDF_train.reshape(dataDF_train.shape[0], dataDF_train.shape[1], 1)"
      ],
      "metadata": {
        "id": "nSsI1o24SfQZ"
      },
      "execution_count": 25,
      "outputs": []
    },
    {
      "cell_type": "code",
      "source": [
        "# split data into training and test\n",
        "X_train, X_valid, y_train, y_valid = train_test_split(dataDF_train, dataDF_train_labels, test_size=0.25, random_state=1)"
      ],
      "metadata": {
        "id": "CHp8y1x-RYQM"
      },
      "execution_count": 26,
      "outputs": []
    },
    {
      "cell_type": "code",
      "source": [
        "# create tf dataset out of the panda dataframes\n",
        "X_train = tf.data.Dataset.from_tensor_slices(X_train)\n",
        "y_train = tf.data.Dataset.from_tensor_slices(y_train)\n",
        "\n",
        "X_valid = tf.data.Dataset.from_tensor_slices(X_valid)\n",
        "y_valid = tf.data.Dataset.from_tensor_slices(y_valid)"
      ],
      "metadata": {
        "id": "ziWP89bTRcKC"
      },
      "execution_count": 27,
      "outputs": []
    },
    {
      "cell_type": "code",
      "source": [
        "# combine data and target labels\n",
        "train_dataset = tf.data.Dataset.zip((X_train, y_train))\n",
        "test_dataset = tf.data.Dataset.zip((X_valid, y_valid))"
      ],
      "metadata": {
        "id": "fyfWo734Rd7i"
      },
      "execution_count": 28,
      "outputs": []
    },
    {
      "cell_type": "code",
      "source": [
        "# shuffle, batch and prefetch data\n",
        "train_dataset = train_dataset.shuffle(1000).batch(64).prefetch(64)\n",
        "test_dataset = test_dataset.shuffle(1000).batch(64).prefetch(64)"
      ],
      "metadata": {
        "id": "WpevhWFzRfpb"
      },
      "execution_count": 29,
      "outputs": []
    },
    {
      "cell_type": "code",
      "source": [
        "# create CNN regression model\n",
        "class CNN_regression_model(tf.keras.Model):\n",
        "\n",
        "    def __init__(self):\n",
        "        super(CNN_regression_model, self).__init__()\n",
        "        self.conv1 = tf.keras.layers.Conv1D(filters = 32, \n",
        "                                            kernel_size = 2, \n",
        "                                            activation = tf.keras.activations.relu,\n",
        "                                            input_shape=(78,1))\n",
        "        self.conv2 = tf.keras.layers.Conv1D(filters = 64, \n",
        "                                            kernel_size = 2, \n",
        "                                            activation = tf.keras.activations.relu)\n",
        "        self.conv3 = tf.keras.layers.Conv1D(filters = 128, \n",
        "                                            kernel_size = 2, \n",
        "                                            activation = tf.keras.activations.relu)\n",
        "        self.conv4 = tf.keras.layers.Conv1D(filters = 64, \n",
        "                                            kernel_size = 2, \n",
        "                                            activation = tf.keras.activations.relu)\n",
        "        self.conv5 = tf.keras.layers.Conv1D(filters = 32, \n",
        "                                            kernel_size = 2, \n",
        "                                            activation = tf.keras.activations.relu)\n",
        "        self.flatten = tf.keras.layers.Flatten()\n",
        "        self.dense1 = tf.keras.layers.Dense(units = 120, kernel_initializer='normal', activation = tf.keras.activations.relu)\n",
        "        self.dense2 = tf.keras.layers.Dense(units = 1, activation = tf.keras.activations.linear)\n",
        "             \n",
        "\n",
        "    def call(self, inputs):\n",
        "        x = self.conv1(inputs)\n",
        "        x = self.conv2(x)\n",
        "        x = self.conv3(x)\n",
        "        x = self.conv4(x)\n",
        "        x = self.conv5(x)\n",
        "        x = self.flatten(x)\n",
        "        x = self.dense1(x)\n",
        "        out = self.dense2(x)\n",
        "        return out"
      ],
      "metadata": {
        "id": "Bd2jo261RiTa"
      },
      "execution_count": 30,
      "outputs": []
    },
    {
      "cell_type": "code",
      "source": [
        "def train_step(model, input, target, loss_function, optimizer):\n",
        "  with tf.GradientTape() as tape:\n",
        "    prediction = model(input)\n",
        "    loss = loss_function(target, prediction)\n",
        "    gradients = tape.gradient(loss, model.trainable_variables)\n",
        "  optimizer.apply_gradients(zip(gradients, model.trainable_variables))\n",
        "  return loss\n",
        "\n",
        "def test(model, test_data, loss_function):\n",
        "  test_accuracy_aggregator = []\n",
        "  test_loss_aggregator = []\n",
        "\n",
        "  for (input, target) in test_data:\n",
        "    prediction = model(input)\n",
        "    sample_test_loss = loss_function(target, prediction)\n",
        "    sample_test_accuracy =  np.round(target, 0) == np.round(prediction, 0)\n",
        "    sample_test_accuracy = np.mean(sample_test_accuracy)\n",
        "    test_loss_aggregator.append(sample_test_loss.numpy())\n",
        "    test_accuracy_aggregator.append(sample_test_accuracy)\n",
        "\n",
        "  test_loss = tf.reduce_mean(test_loss_aggregator)\n",
        "  test_accuracy = tf.reduce_mean(test_accuracy_aggregator)\n",
        "\n",
        "  return test_loss, test_accuracy"
      ],
      "metadata": {
        "id": "O4qdvkHVT4ir"
      },
      "execution_count": 31,
      "outputs": []
    },
    {
      "cell_type": "code",
      "source": [
        "tf.keras.backend.clear_session()\n",
        "\n",
        "### Hyperparameters\n",
        "num_epochs = 100\n",
        "learning_rate = 0.01\n",
        "\n",
        "# Initialize the model.\n",
        "model = CNN_regression_model()\n",
        "# Initialize the loss: mean squared error\n",
        "mse_loss = tf.keras.losses.MeanSquaredError()\n",
        "# Initialize the optimizer: Adam with default parameters\n",
        "optimizer = tf.keras.optimizers.Adam(learning_rate)\n",
        "\n",
        "# Initialize lists for later visualization.\n",
        "train_losses = []\n",
        "\n",
        "test_losses = []\n",
        "test_accuracies = []\n",
        "\n",
        "#testing once before we begin\n",
        "test_loss, test_accuracy = test(model, test_dataset, mse_loss)\n",
        "test_losses.append(test_loss)\n",
        "test_accuracies.append(test_accuracy)\n",
        "\n",
        "#check how model performs on train data once before we begin\n",
        "train_loss, _ = test(model, train_dataset, mse_loss)\n",
        "train_losses.append(train_loss)\n",
        "\n",
        "# We train for num_epochs epochs.\n",
        "for epoch in range(num_epochs):\n",
        "    interesting_epochs = np.arange(9,200,10)\n",
        "    if epoch == 0 or epoch in interesting_epochs:\n",
        "      rmse = np.sqrt(test_losses[-1])\n",
        "      rmse = np.format_float_positional(rmse, 3)\n",
        "      print(f'Epoch: {str(epoch+1)} has a RMSE of {rmse}')\n",
        "\n",
        "    #training (and checking in with training)\n",
        "    epoch_loss_agg = []\n",
        "    for input,target in train_dataset:\n",
        "        train_loss = train_step(model, input, target, mse_loss, optimizer)\n",
        "        epoch_loss_agg.append(train_loss)\n",
        "\n",
        "    #track training loss\n",
        "    train_losses.append(tf.reduce_mean(epoch_loss_agg))\n",
        "\n",
        "    #testing, so we can track accuracy and test loss\n",
        "    test_loss, test_accuracy = test(model, test_dataset, mse_loss)\n",
        "    test_losses.append(test_loss)\n",
        "    test_accuracies.append(test_accuracy)"
      ],
      "metadata": {
        "colab": {
          "base_uri": "https://localhost:8080/"
        },
        "id": "c9T8t1EmT5CR",
        "outputId": "d1c1178a-a2a7-4055-917c-3c842d0566e5"
      },
      "execution_count": 32,
      "outputs": [
        {
          "output_type": "stream",
          "name": "stdout",
          "text": [
            "Epoch: 1 has a RMSE of 80.427\n",
            "Epoch: 10 has a RMSE of 33.927\n",
            "Epoch: 20 has a RMSE of 31.695\n",
            "Epoch: 30 has a RMSE of 30.075\n",
            "Epoch: 40 has a RMSE of 30.140\n",
            "Epoch: 50 has a RMSE of 31.151\n",
            "Epoch: 60 has a RMSE of 30.887\n",
            "Epoch: 70 has a RMSE of 31.423\n",
            "Epoch: 80 has a RMSE of 31.029\n",
            "Epoch: 90 has a RMSE of 30.996\n",
            "Epoch: 100 has a RMSE of 31.93\n"
          ]
        }
      ]
    },
    {
      "cell_type": "code",
      "source": [
        "# Visualize loss for training and test data.\n",
        "plt.figure()\n",
        "line1, = plt.plot(np.sqrt(train_losses))\n",
        "line2, = plt.plot(np.sqrt(test_losses))\n",
        "plt.xlabel(\"Training steps\")\n",
        "plt.ylabel(\"Loss\")\n",
        "plt.legend((line1,line2),(\"training\",\"test\"))\n",
        "plt.show()"
      ],
      "metadata": {
        "colab": {
          "base_uri": "https://localhost:8080/",
          "height": 279
        },
        "id": "zmM_y55kdB8W",
        "outputId": "6744f921-8582-4f71-f38a-bf9140f6ca77"
      },
      "execution_count": 33,
      "outputs": [
        {
          "output_type": "display_data",
          "data": {
            "text/plain": [
              "<Figure size 432x288 with 1 Axes>"
            ],
            "image/png": "[encoded data removed]"
          },
          "metadata": {
            "needs_background": "light"
          }
        }
      ]
    }
  ]
}