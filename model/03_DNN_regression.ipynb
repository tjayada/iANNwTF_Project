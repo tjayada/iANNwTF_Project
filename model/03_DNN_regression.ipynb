{
  "nbformat": 4,
  "nbformat_minor": 0,
  "metadata": {
    "colab": {
      "name": "03_DNN_regression.ipynb",
      "provenance": [],
      "collapsed_sections": []
    },
    "kernelspec": {
      "name": "python3",
      "display_name": "Python 3"
    },
    "language_info": {
      "name": "python"
    },
    "accelerator": "GPU"
  },
  "cells": [
    {
      "cell_type": "code",
      "execution_count": 1,
      "metadata": {
        "id": "dkrtr16UJHYT"
      },
      "outputs": [],
      "source": [
        "import pandas as pd\n",
        "import matplotlib.pyplot as plt\n",
        "import tensorflow as tf\n",
        "from tensorflow import keras\n",
        "from tensorflow.keras import layers\n",
        "from tensorflow.keras.layers.experimental import preprocessing\n",
        "import numpy as np"
      ]
    },
    {
      "cell_type": "code",
      "source": [
        "# Load Train data from our github repo\n",
        "url_train = 'https://raw.githubusercontent.com/tjayada/iANNwTF_Project/main/data/cleaned%20data%20(1)/data_without_columns_train.csv'\n",
        "dataDF_train = pd.read_csv(url_train)\n",
        "\n",
        "# Load Train label data from our github repo\n",
        "url_train_labels = 'https://raw.githubusercontent.com/tjayada/iANNwTF_Project/main/data/cleaned%20data%20(1)/data_without_columns_train_labels.csv'\n",
        "dataDF_train_labels = pd.read_csv(url_train_labels)\n",
        "\n",
        "# Load Problem data from our github repo\n",
        "url_problem = 'https://raw.githubusercontent.com/tjayada/iANNwTF_Project/main/data/cleaned%20data%20(1)/data_without_columns_test.csv'\n",
        "dataDF_problem = pd.read_csv(url_problem)"
      ],
      "metadata": {
        "id": "SCmGeB2AJKE3"
      },
      "execution_count": 2,
      "outputs": []
    },
    {
      "cell_type": "code",
      "source": [
        "# drop indexes \n",
        "dataDF_train = dataDF_train.drop(\"Unnamed: 0\", axis = 1)\n",
        "dataDF_train_labels = dataDF_train_labels.drop(\"Unnamed: 0\", axis = 1)\n",
        "dataDF_problem = dataDF_problem.drop(\"Unnamed: 0\", axis = 1)"
      ],
      "metadata": {
        "id": "eXiwglUqJL-t"
      },
      "execution_count": 3,
      "outputs": []
    },
    {
      "cell_type": "code",
      "source": [
        "dnn_model = keras.Sequential([\n",
        "      layers.Dense(units=1, input_shape=(78,)),\n",
        "      layers.Dense(124, activation='relu'),\n",
        "      layers.Dense(248, activation='relu'),\n",
        "      layers.Dense(1)\n",
        "  ])\n",
        "\n",
        "dnn_model.compile(loss='mean_absolute_error',\n",
        "                optimizer=tf.keras.optimizers.Adam(0.01))"
      ],
      "metadata": {
        "id": "tsUTnxpQJYwD"
      },
      "execution_count": 4,
      "outputs": []
    },
    {
      "cell_type": "code",
      "source": [
        "history = dnn_model.fit(\n",
        "    dataDF_train, dataDF_train_labels,\n",
        "    batch_size = 64,\n",
        "    epochs=100,\n",
        "    verbose=0,\n",
        "    validation_split = 0.1)"
      ],
      "metadata": {
        "id": "FyCCkz3LNE1Q"
      },
      "execution_count": 5,
      "outputs": []
    },
    {
      "cell_type": "code",
      "source": [
        "# Calculate R squared\n",
        "from sklearn.metrics import r2_score\n",
        "\n",
        "y_pred = dnn_model.predict(dataDF_train).astype(np.int64)\n",
        "y_true = dataDF_train_labels.astype(np.int64)\n",
        "\n",
        "r2_score(y_true, y_pred) "
      ],
      "metadata": {
        "colab": {
          "base_uri": "https://localhost:8080/"
        },
        "id": "JMSAO353ONCW",
        "outputId": "bfae2358-c7c1-447c-89ff-de792adb94ef"
      },
      "execution_count": 6,
      "outputs": [
        {
          "output_type": "execute_result",
          "data": {
            "text/plain": [
              "0.38403600439791674"
            ]
          },
          "metadata": {},
          "execution_count": 6
        }
      ]
    },
    {
      "cell_type": "code",
      "source": [
        "def plot_loss(history):\n",
        "  plt.plot(history.history['loss'], label='loss')\n",
        "  plt.xlabel('Epoch')\n",
        "  plt.ylabel('Error')\n",
        "  plt.legend()\n",
        "  plt.grid(True)"
      ],
      "metadata": {
        "id": "6usjPt7KbQOr"
      },
      "execution_count": 7,
      "outputs": []
    },
    {
      "cell_type": "code",
      "source": [
        "plot_loss(history)"
      ],
      "metadata": {
        "colab": {
          "base_uri": "https://localhost:8080/",
          "height": 279
        },
        "id": "kOmRlL96bRFh",
        "outputId": "3ba46cfa-14c4-4117-8d6f-eefd02813d82"
      },
      "execution_count": 8,
      "outputs": [
        {
          "output_type": "display_data",
          "data": {
            "text/plain": [
              "<Figure size 432x288 with 1 Axes>"
            ],
            "image/png": "[encoded data removed]"
          },
          "metadata": {
            "needs_background": "light"
          }
        }
      ]
    }
  ]
}